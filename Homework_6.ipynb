{
 "cells": [
  {
   "cell_type": "markdown",
   "metadata": {
    "id": "4Aket45HkKfn"
   },
   "source": [
    "## 1 задание\n"
   ]
  },
  {
   "cell_type": "markdown",
   "metadata": {
    "id": "H1CRwCI-kKfr"
   },
   "source": [
    "Печатные газеты использовали свой формат дат для каждого выпуска. Для каждой газеты из списка напишите формат указанной даты для перевода в объект datetime:\n",
    "The Moscow Times - Wednesday, October 2, 2002\n",
    "The Guardian - Friday, 11.10.13\n",
    "Daily News - Thursday, 18 August 1977"
   ]
  },
  {
   "cell_type": "code",
   "execution_count": 1,
   "metadata": {
    "id": "IZrYKv1vkKfs"
   },
   "outputs": [],
   "source": [
    "import datetime"
   ]
  },
  {
   "cell_type": "code",
   "execution_count": 2,
   "metadata": {
    "id": "Eyd66D2XlAxI"
   },
   "outputs": [],
   "source": [
    "moscowTimes = \"Wednesday, October 2, 2002\"\n",
    "guardian = \"Friday, 11.10.13\"\n",
    "dailyNews = \"Thursday, 18 August 1977\""
   ]
  },
  {
   "cell_type": "code",
   "execution_count": 3,
   "metadata": {
    "id": "BjILEKizk-3W"
   },
   "outputs": [],
   "source": [
    "datetime1 = datetime.datetime.strptime(moscowTimes, '%A, %B %d, %Y')\n",
    "datetime2 = datetime.datetime.strptime(guardian, '%A, %d.%m.%y')\n",
    "datetime3 = datetime.datetime.strptime(dailyNews, '%A, %d %B %Y')"
   ]
  },
  {
   "cell_type": "code",
   "execution_count": 4,
   "metadata": {
    "colab": {
     "base_uri": "https://localhost:8080/"
    },
    "id": "F_JDcuURk9B0",
    "outputId": "ef5227a6-91c7-4a5a-8fd3-fa6c38f59a33"
   },
   "outputs": [
    {
     "name": "stdout",
     "output_type": "stream",
     "text": [
      "Date: 2002-10-02\n",
      "Date: 2013-10-11\n",
      "Date: 1977-08-18\n"
     ]
    }
   ],
   "source": [
    "print('Date:', datetime1.date())\n",
    "print('Date:', datetime2.date())\n",
    "print('Date:', datetime3.date())"
   ]
  },
  {
   "cell_type": "markdown",
   "metadata": {
    "id": "f8X9bOBhkKfw"
   },
   "source": [
    "## 2 задание"
   ]
  },
  {
   "cell_type": "markdown",
   "metadata": {
    "id": "Z7tGn-I8kKfw"
   },
   "source": [
    "Напишите функцию date_range, которая возвращает список дат за период от start_date до end_date. Даты должны вводиться в формате YYYY-MM-DD. В случае неверного формата или при start_date > end_date должен возвращаться пустой список."
   ]
  },
  {
   "cell_type": "code",
   "execution_count": 5,
   "metadata": {
    "id": "wOYdvgtGkKfx"
   },
   "outputs": [],
   "source": [
    "import datetime\n",
    "from datetime import timedelta"
   ]
  },
  {
   "cell_type": "code",
   "execution_count": 6,
   "metadata": {
    "id": "H2Wczrs9km2c"
   },
   "outputs": [],
   "source": [
    "def date_range(start_date, end_date):\n",
    "    result_list =[]\n",
    "    try:\n",
    "        first_date = datetime.datetime.strptime(start_date, '%Y.%m.%d')\n",
    "        second_date = datetime.datetime.strptime(end_date, '%Y.%m.%d')\n",
    "    except:\n",
    "        return result_list\n",
    "\n",
    "    delta = second_date - first_date\n",
    "    if int(delta.days) < 0:\n",
    "        return result_list\n",
    "    else:\n",
    "        for d in range(delta.days + 1):\n",
    "            day = first_date + timedelta(days=d)\n",
    "            result_list.append(str(day.date()))\n",
    "    return result_list"
   ]
  },
  {
   "cell_type": "code",
   "execution_count": 7,
   "metadata": {
    "colab": {
     "base_uri": "https://localhost:8080/"
    },
    "id": "JaWWxtMSkpwn",
    "outputId": "26eabba7-32fd-4fdc-91c2-8f64607b7109"
   },
   "outputs": [
    {
     "name": "stdout",
     "output_type": "stream",
     "text": [
      "['2022-09-10', '2022-09-11', '2022-09-12']\n",
      "[]\n",
      "[]\n"
     ]
    }
   ],
   "source": [
    "print(date_range(\"2022.09.10\", \"2022.09.12\"))\n",
    "print(date_range(\"2022.09.10\", \"2022.09.01\"))\n",
    "print(date_range(\"10.09.2020\", \"2022.09.12\"))"
   ]
  },
  {
   "cell_type": "code",
   "execution_count": null,
   "metadata": {},
   "outputs": [],
   "source": []
  }
 ],
 "metadata": {
  "colab": {
   "collapsed_sections": [],
   "provenance": []
  },
  "kernelspec": {
   "display_name": "Python 3 (ipykernel)",
   "language": "python",
   "name": "python3"
  },
  "language_info": {
   "codemirror_mode": {
    "name": "ipython",
    "version": 3
   },
   "file_extension": ".py",
   "mimetype": "text/x-python",
   "name": "python",
   "nbconvert_exporter": "python",
   "pygments_lexer": "ipython3",
   "version": "3.9.12"
  },
  "vscode": {
   "interpreter": {
    "hash": "81e3cc47525a9551a88a1c0be9662d44fcc77de8bd3f5fb652e007b89b2b4c93"
   }
  }
 },
 "nbformat": 4,
 "nbformat_minor": 1
}
