{
 "cells": [
  {
   "cell_type": "code",
   "execution_count": 2,
   "id": "ae316fa5",
   "metadata": {},
   "outputs": [],
   "source": [
    "#импортирование_библиотек\n",
    "import numpy as np"
   ]
  },
  {
   "cell_type": "code",
   "execution_count": 3,
   "id": "4a6bf845",
   "metadata": {},
   "outputs": [],
   "source": [
    "#функция_поиска_уникальных_значений\n",
    "def find_unique_values(massive):\n",
    "    #создание_массива \n",
    "    massive_unique = []\n",
    "    #перебор_элементов_и_поиск_уникальных\n",
    "    for values in massive:\n",
    "        if values not in massive_unique:\n",
    "            #добавление_уникальных_элементов_в_массив\n",
    "            massive_unique.append(values)\n",
    "    #возврат_значения_уникальных_элементов\n",
    "    return massive_unique"
   ]
  },
  {
   "cell_type": "code",
   "execution_count": 4,
   "id": "2a1d6f35",
   "metadata": {},
   "outputs": [],
   "source": [
    "#создание_функции_геометок\n",
    "def geo_labels():\n",
    "    #создание_пустого_словаря\n",
    "    users_labels = dict()\n",
    "\n",
    "    #приглашение_на_ввод_имен_пользователей\n",
    "    print(\"Введите имя пользователей через пробел: \")\n",
    "    #ввод_имен_пользователей\n",
    "    users = input()\n",
    "    #разделение_на_отдельных_пользователей_и_запись_в_массив\n",
    "    users_mass = users.split()\n",
    "    #вывод_имен_всех_пользователей\n",
    "    print(\"Вы ввели следующих пользователей: \", users_mass)\n",
    "\n",
    "    #приглашение_на_ввод_меток_для_пользователей\n",
    "    print(\"Введите метки пользователей: \")\n",
    "\n",
    "    #перебор_пользователей_и_добавление_меток\n",
    "    for i in range(len(users_mass)):\n",
    "        #определение_пользователя_для_ввода_меток\n",
    "        print(\"Введите метки для пользователя, через запятую: \", users_mass[i])\n",
    "        #ввод_меток\n",
    "        labels = input()\n",
    "        #заполнение_словаря\n",
    "        users_labels[i] = labels\n",
    "\n",
    "    #замена_ключей_в_словаре_на_имена_пользователей\n",
    "    for i in range(len(users_mass)):\n",
    "        users_labels[users_mass[i]] = users_labels.pop(i)\n",
    "\n",
    "    #печать_словаря_пользователь_метка\n",
    "    print(\"ids= \",users_labels)\n",
    "\n",
    "    #создание_пустого_листа\n",
    "    labels_result = []\n",
    "    #создание_многомерного_листа\n",
    "    for i in range(len(users_mass)):\n",
    "        labels_result.append((users_labels.get(users_mass[i], 0)).split(','))\n",
    "\n",
    "    #создание_пустого_листа\n",
    "    labels_result_one = []\n",
    "    #преобразование_многомерного_листа_в_одномерный\n",
    "    for param in labels_result:\n",
    "        labels_result_one.extend(param if isinstance(param, list) else [param]) \n",
    "\n",
    "    #конвертация_листа_в_массив\n",
    "    labels_result_mass = np.array(labels_result_one)\n",
    "\n",
    "    #содание_массива_для_чисел\n",
    "    labels_resultInt = []\n",
    "    #конвертация_массива_строк_в_массив_чисел\n",
    "    labels_resultInt = [int(numeric_string) for numeric_string in labels_result_mass]\n",
    "    \n",
    "    #поиск_уникальных_значений_в_массиве\n",
    "    result_str = find_unique_values(labels_resultInt)\n",
    "\n",
    "    #печать_результата\n",
    "    print(\"Результат: \", result_str)"
   ]
  },
  {
   "cell_type": "code",
   "execution_count": 5,
   "id": "b68bd90b",
   "metadata": {},
   "outputs": [],
   "source": [
    "#инициализация_тестов\n",
    "def test_geo_labels():\n",
    "    assert geo_labels() != 0"
   ]
  },
  {
   "cell_type": "code",
   "execution_count": 6,
   "id": "9b1f4697",
   "metadata": {},
   "outputs": [
    {
     "name": "stdout",
     "output_type": "stream",
     "text": [
      "Введите имя пользователей через пробел: \n",
      "us_1 us_2 us_3\n",
      "Вы ввели следующих пользователей:  ['us_1', 'us_2', 'us_3']\n",
      "Введите метки пользователей: \n",
      "Введите метки для пользователя, через запятую:  us_1\n",
      "213, 213, 213, 15, 213\n",
      "Введите метки для пользователя, через запятую:  us_2\n",
      "54, 54, 119, 119, 119\n",
      "Введите метки для пользователя, через запятую:  us_3\n",
      "213, 98, 98, 35\n",
      "ids=  {'us_1': '213, 213, 213, 15, 213', 'us_2': '54, 54, 119, 119, 119', 'us_3': '213, 98, 98, 35'}\n",
      "Результат:  [213, 15, 54, 119, 98, 35]\n"
     ]
    }
   ],
   "source": [
    "#запуск_программы\n",
    "test_geo_labels()"
   ]
  },
  {
   "cell_type": "code",
   "execution_count": null,
   "id": "658f223c",
   "metadata": {},
   "outputs": [],
   "source": []
  }
 ],
 "metadata": {
  "kernelspec": {
   "display_name": "Python 3 (ipykernel)",
   "language": "python",
   "name": "python3"
  },
  "language_info": {
   "codemirror_mode": {
    "name": "ipython",
    "version": 3
   },
   "file_extension": ".py",
   "mimetype": "text/x-python",
   "name": "python",
   "nbconvert_exporter": "python",
   "pygments_lexer": "ipython3",
   "version": "3.9.12"
  }
 },
 "nbformat": 4,
 "nbformat_minor": 5
}
