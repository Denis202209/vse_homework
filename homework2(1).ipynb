{
 "cells": [
  {
   "cell_type": "code",
   "execution_count": null,
   "id": "534003dc",
   "metadata": {},
   "outputs": [],
   "source": [
    "# Написать код на Python в среде Jupyter Notebook для решения следующей задачи.\n",
    "\n",
    "# Дана переменная, в которой хранится слово из латинских букв. Напишите код, который выводит на экран:\n",
    "# * среднюю букву, если число букв в слове нечётное;\n",
    "# * две средних буквы, если число букв чётное.\n",
    "\n",
    "# Пример работы программы:\n",
    "\n",
    "# 1. word = 'test' Результат: es \n",
    "# 2. word = 'testing' Результат: t\n"
   ]
  },
  {
   "cell_type": "code",
   "execution_count": 1,
   "id": "1a97c5e3",
   "metadata": {},
   "outputs": [],
   "source": [
    "#импортирование_системных_библиотек\n",
    "import sys\n",
    "import os\n",
    "\n",
    "#библиотека_по_работе_с_датой_и_временем\n",
    "import time\n",
    "\n",
    "#библиотека_для_регулярных_выражений\n",
    "import re"
   ]
  },
  {
   "cell_type": "code",
   "execution_count": 2,
   "id": "9ac83f4f",
   "metadata": {},
   "outputs": [
    {
     "name": "stdout",
     "output_type": "stream",
     "text": [
      "\n",
      "Время работы блока:\n",
      "CPU times: total: 0 ns\n",
      "Wall time: 1 ms\n"
     ]
    }
   ],
   "source": [
    "%%time\n",
    "\n",
    "#создание_функции_проверки_символа_и_вывода_на_печать\n",
    "def check_simbol():\n",
    "    #печать_приглашения_на_ввод    \n",
    "    print(\"\\nВведите слово на латиннице без пробелов:\")\n",
    "    \n",
    "    #инициализация_переменной_и_функция_ввода\n",
    "    strl = input()\n",
    "\n",
    "    #формирование_словаря\n",
    "    diction = \"^[a-zA-Zа]+$\"\n",
    "\n",
    "    #создание_шаблона_для_проверки\n",
    "    pattern = re.compile(diction)\n",
    "\n",
    "    #проверка_на_символы\n",
    "    check = (pattern.search(strl) is not None)\n",
    "\n",
    "    #если_все_символы_латинские_то_работаем_дальше\n",
    "    if(check == True):\n",
    "      #печать_введенного_слова\n",
    "      print(\"Вы ввели: \", strl)\n",
    "\n",
    "      #разделение_строки_на_символы_и_запись_в_массив\n",
    "      sMass = list(strl)\n",
    "  \n",
    "      #печать_массива\n",
    "      print(\"Полученный символьный массив: \", sMass)\n",
    "    \n",
    "      #измерение_длины_массива\n",
    "      sMassLen = len(sMass) \n",
    "  \n",
    "      #если_остаток_от_деления_равен_0_значит_чет\n",
    "      sHalfMass = int(sMassLen/2)\n",
    "      if(sMassLen%2 == 0):\n",
    "        print(\"Колличество букв в слове четное, две средние буквы: \", \n",
    "              sMass[sHalfMass - 1],\n",
    "              sMass[sHalfMass])\n",
    "      #если_остаток_от_деления_не_равен_0_значит_нечет\n",
    "      else:\n",
    "        print(\"Колличество букв в слове не четное, средняя буква: \",\n",
    "              sMass[sHalfMass])\n",
    "    else:\n",
    "      print(\"Введенные символы не латинские\")\n",
    "\n",
    "print(\"\\nВремя работы блока:\")"
   ]
  },
  {
   "cell_type": "code",
   "execution_count": 3,
   "id": "b774128c",
   "metadata": {},
   "outputs": [
    {
     "name": "stdout",
     "output_type": "stream",
     "text": [
      "\n",
      "Время работы блока:\n",
      "CPU times: total: 0 ns\n",
      "Wall time: 1 ms\n"
     ]
    }
   ],
   "source": [
    "%%time\n",
    "\n",
    "#функция_с_тестами_и_проверками\n",
    "def test_check_simbol():\n",
    "    #три_теста_для_проверки\n",
    "    assert check_simbol() != 0 \n",
    "    assert check_simbol() != 1 \n",
    "    assert check_simbol() != -1 \n",
    "\n",
    "print(\"\\nВремя работы блока:\")"
   ]
  },
  {
   "cell_type": "code",
   "execution_count": null,
   "id": "bd10c281",
   "metadata": {},
   "outputs": [
    {
     "name": "stdout",
     "output_type": "stream",
     "text": [
      "\n",
      "Введите слово на латиннице без пробелов:\n",
      "test\n",
      "Вы ввели:  test\n",
      "Полученный символьный массив:  ['t', 'e', 's', 't']\n",
      "Колличество букв в слове четное, две средние буквы:  e s\n",
      "\n",
      "Введите слово на латиннице без пробелов:\n",
      "testing\n",
      "Вы ввели:  testing\n",
      "Полученный символьный массив:  ['t', 'e', 's', 't', 'i', 'n', 'g']\n",
      "Колличество букв в слове не четное, средняя буква:  t\n",
      "\n",
      "Введите слово на латиннице без пробелов:\n"
     ]
    }
   ],
   "source": [
    "#вызов_функции\n",
    "test_check_simbol()"
   ]
  },
  {
   "cell_type": "code",
   "execution_count": null,
   "id": "76742f1f",
   "metadata": {},
   "outputs": [],
   "source": []
  }
 ],
 "metadata": {
  "kernelspec": {
   "display_name": "Python 3 (ipykernel)",
   "language": "python",
   "name": "python3"
  },
  "language_info": {
   "codemirror_mode": {
    "name": "ipython",
    "version": 3
   },
   "file_extension": ".py",
   "mimetype": "text/x-python",
   "name": "python",
   "nbconvert_exporter": "python",
   "pygments_lexer": "ipython3",
   "version": "3.9.12"
  }
 },
 "nbformat": 4,
 "nbformat_minor": 5
}
