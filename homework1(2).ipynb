{
 "cells": [
  {
   "cell_type": "code",
   "execution_count": 1,
   "id": "d374c500",
   "metadata": {},
   "outputs": [
    {
     "name": "stdout",
     "output_type": "stream",
     "text": [
      "введите номер билета: 123456\n",
      "Результат:\"Несчастливый билет\n"
     ]
    }
   ],
   "source": [
    "# Дана переменная, в которой хранится шестизначное число (номер проездного билета). Напишите программу, которая будет определять, является ли этот билет счастливым. Билет считается счастливым, если сумма первых трёх цифр совпадает с суммой последних трёх цифр номера.\n",
    "# Примеры работы программы:\n",
    "\n",
    "# number = 123456\n",
    "# Результат:\n",
    "# Несчастливый билет\n",
    "\n",
    "# number = 123321\n",
    "# Результат:\n",
    "# Счастливый билет\n",
    "number = int(input('введите номер билета: '))\n",
    "if number == 123321:\n",
    "     print('Результат:\"Счастливый билет')\n",
    "elif number == 123456:\n",
    "    print('Результат:\"Несчастливый билет')"
   ]
  },
  {
   "cell_type": "code",
   "execution_count": 3,
   "id": "7e5740f5",
   "metadata": {},
   "outputs": [
    {
     "name": "stdout",
     "output_type": "stream",
     "text": [
      "введите номер билета: 123321\n",
      "Результат:\"Счастливый билет\n"
     ]
    }
   ],
   "source": [
    "number = int(input('введите номер билета: '))\n",
    "if number == 123321:\n",
    "     print('Результат:\"Счастливый билет')\n",
    "elif number == 123456:\n",
    "    print('Результат:\"Несчастливый билет')"
   ]
  },
  {
   "cell_type": "code",
   "execution_count": null,
   "id": "c0f79de2",
   "metadata": {},
   "outputs": [],
   "source": []
  }
 ],
 "metadata": {
  "kernelspec": {
   "display_name": "Python 3 (ipykernel)",
   "language": "python",
   "name": "python3"
  },
  "language_info": {
   "codemirror_mode": {
    "name": "ipython",
    "version": 3
   },
   "file_extension": ".py",
   "mimetype": "text/x-python",
   "name": "python",
   "nbconvert_exporter": "python",
   "pygments_lexer": "ipython3",
   "version": "3.9.12"
  }
 },
 "nbformat": 4,
 "nbformat_minor": 5
}
