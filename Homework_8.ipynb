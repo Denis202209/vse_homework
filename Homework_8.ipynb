{
 "cells": [
  {
   "cell_type": "markdown",
   "metadata": {
    "id": "LrTIJHwGZ6__"
   },
   "source": [
    "#### Задача 1. Напишите функцию, которая принимает на вход строку и проверяет, является ли она валидным транспортным номером (1 буква, 3 цифры, 2 буквы, 2-3 цифры). Обратите внимание, что не все буквы кириллического алфавита используются в транспортных номерах.\n",
    "\n",
    "##### Если номер валиден, то функция должна возвращать отдельно номер и регион.\n",
    "##### Примеры работы программы:\n",
    "##### car_id = 'А222BС96'\n",
    "##### Результат: Номер А222BС валиден. Регион: 96\n",
    "##### car_id = 'АБ22ВВ193'\n",
    "##### Результат: Номер не валиден"
   ]
  },
  {
   "cell_type": "code",
   "execution_count": 1,
   "metadata": {
    "id": "jn3TBQl_aKn9"
   },
   "outputs": [],
   "source": [
    "import re"
   ]
  },
  {
   "cell_type": "code",
   "execution_count": 2,
   "metadata": {
    "id": "_RJ1FJd1Z5IR"
   },
   "outputs": [],
   "source": [
    "def checkNumber(number):\n",
    "    try: \n",
    "        res = re.match(r'[АВЕКМНОРСТУХABEKMHOPCTYX]\\d{3}[АВЕКМНОРСТУХABEKMHOPCTYX]{2}\\d{2,3}', number)\n",
    "        number = res[0]\n",
    "        result = f'Результат: Номер {number[:6]} валиден. Регион: {number[6:]}'\n",
    "        return result\n",
    "    except:\n",
    "        return \"Результат: Номер не валиден\""
   ]
  },
  {
   "cell_type": "code",
   "execution_count": 3,
   "metadata": {
    "colab": {
     "base_uri": "https://localhost:8080/"
    },
    "id": "85AKW8n0Z5IV",
    "outputId": "c4187f0b-eb18-42cc-a4d0-de6dedd73a37"
   },
   "outputs": [
    {
     "name": "stdout",
     "output_type": "stream",
     "text": [
      "Введите гос.номер автомобиляА232ВС23\n",
      "Результат: Номер А232ВС валиден. Регион: 23\n"
     ]
    }
   ],
   "source": [
    "txt = input(\"Введите гос.номер автомобиля\")\n",
    "print(checkNumber(txt))"
   ]
  },
  {
   "cell_type": "code",
   "execution_count": 4,
   "metadata": {
    "colab": {
     "base_uri": "https://localhost:8080/"
    },
    "id": "cPkPEHRYZ5IW",
    "outputId": "00d31d8d-cfa0-467a-ede8-c232a1242fdb"
   },
   "outputs": [
    {
     "name": "stdout",
     "output_type": "stream",
     "text": [
      "Результат: Номер А232ВС валиден. Регион: 23\n",
      "Результат: Номер Е456МС валиден. Регион: 123\n",
      "Результат: Номер не валиден\n",
      "Результат: Номер не валиден\n"
     ]
    }
   ],
   "source": [
    "testingList = ['А232ВС23', 'Е456МС123', 'Ы123ЪУ122', 'УУ123СМ12']\n",
    "for i in testingList:\n",
    "    print(checkNumber(i))"
   ]
  }
 ],
 "metadata": {
  "colab": {
   "collapsed_sections": [],
   "provenance": []
  },
  "kernelspec": {
   "display_name": "Python 3 (ipykernel)",
   "language": "python",
   "name": "python3"
  },
  "language_info": {
   "codemirror_mode": {
    "name": "ipython",
    "version": 3
   },
   "file_extension": ".py",
   "mimetype": "text/x-python",
   "name": "python",
   "nbconvert_exporter": "python",
   "pygments_lexer": "ipython3",
   "version": "3.9.12"
  },
  "vscode": {
   "interpreter": {
    "hash": "81e3cc47525a9551a88a1c0be9662d44fcc77de8bd3f5fb652e007b89b2b4c93"
   }
  }
 },
 "nbformat": 4,
 "nbformat_minor": 1
}
