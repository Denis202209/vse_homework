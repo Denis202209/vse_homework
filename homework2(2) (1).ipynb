{
 "cells": [
  {
   "cell_type": "code",
   "execution_count": null,
   "id": "4102dd9e",
   "metadata": {},
   "outputs": [],
   "source": [
    "# Вы делаете MVP (минимально жизнеспособный продукт) dating-сервиса.\n",
    "# У вас есть список юношей и девушек.\n",
    "# Выдвигаем гипотезу: лучшие рекомендации получатся, если просто отсортировать имена по алфавиту и познакомить людей с одинаковыми индексами после сортировки. Но вы не будете никого знакомить, если кто-то может остаться без пары.\n",
    "\n",
    "# Примеры работы программы:\n",
    "\n",
    "# boys = ['Peter', 'Alex', 'John', 'Arthur', 'Richard'] \n",
    "# girls = ['Kate', 'Liza', 'Kira', 'Emma', 'Trisha'] \n",
    "\n",
    "# Результат:\n",
    "# Идеальные пары:\n",
    "# Alex и Emma\n",
    "# Arthur и Kate\n",
    "# John и Kira\n",
    "# Peter и Liza\n",
    "# Richard и Trisha\n",
    "\n",
    "# boys = ['Peter', 'Alex', 'John', 'Arthur', 'Richard', 'Michael'] \n",
    "# girls = ['Kate', 'Liza', 'Kira', 'Emma', 'Trisha'] \n",
    "\n",
    "# Результат: Внимание, кто-то может остаться без пары!\n"
   ]
  },
  {
   "cell_type": "code",
   "execution_count": 1,
   "id": "b5046e73",
   "metadata": {},
   "outputs": [],
   "source": [
    "#Создание_функции_печати_массивов\n",
    "def print_mass(massive):\n",
    "    #цикл_перебирает_элементы_и_выводит_на_печать\n",
    "    for i in range(len(massive)):\n",
    "        print(massive[i])"
   ]
  },
  {
   "cell_type": "code",
   "execution_count": 2,
   "id": "57e9d96f",
   "metadata": {},
   "outputs": [],
   "source": [
    "#создание_функции_сортировки_массивов\n",
    "def sorting_mass(massive_1, massive_2):\n",
    "    #сортировка_массивов\n",
    "    massive_1.sort()\n",
    "    massive_2.sort()"
   ]
  },
  {
   "cell_type": "code",
   "execution_count": 3,
   "id": "3e2e19d9",
   "metadata": {},
   "outputs": [],
   "source": [
    "#создание_функции_ввода_массивов_парней_и_девчонок\n",
    "def input_massive():\n",
    "    print(\"Введите имена парней через пробел:\")\n",
    "    sBoys = input()\n",
    "    #заполнение_массива_для_парней\n",
    "    boys = sBoys.split()\n",
    "\n",
    "    print(\"\\nВведите имена девчонок через пробел:\")\n",
    "    sGirls = input()\n",
    "    #заполнение_массива_для_девчонок\n",
    "    girls = sGirls.split()\n",
    "\n",
    "    return boys, girls"
   ]
  },
  {
   "cell_type": "code",
   "execution_count": 4,
   "id": "d5146e51",
   "metadata": {},
   "outputs": [],
   "source": [
    "#создание_функции_dating\n",
    "def dating_service():\n",
    "    #ввод_исходных_данных\n",
    "    #boys = ['Peter', 'Alex', 'John', 'Arthtur', 'Richard']\n",
    "    #girls = ['Kate', 'Liza', 'Kira', 'Emma', 'Trisha']\n",
    "\n",
    "    boys, girls = input_massive()\n",
    "\n",
    "    #проверка_на_равенство_массивов\n",
    "    if(len(boys) == len(girls)):\n",
    "       #печать_исходных_массивов_девчонок_и_парней\n",
    "      print(\"Исходный массив парней: \")\n",
    "      print_mass(boys)\n",
    "      print(\"\\nИсходный массив девчонок: \")\n",
    "      print_mass(girls)\n",
    "    \n",
    "      #сортировка_массивов\n",
    "      sorting_mass(boys, girls)\n",
    "\n",
    "      #печать_отсортированного_массива_парней\n",
    "      print(\"\\nОтсортированный массив парней: \")\n",
    "      print_mass(boys)\n",
    "      print(\"\\nОтсортированный массив девчонок: \")\n",
    "      print_mass(girls) \n",
    "\n",
    "      print(\"\\nРезультат:\")\n",
    "      print(\"\\nИдеальные пары:\")\n",
    "      \n",
    "      #составление_пар\n",
    "      for i in range(len(boys)):\n",
    "          print(boys[i],\"и\",girls[i])\n",
    "          \n",
    "    else:\n",
    "      print(\"Внимание, кто-то может остаться без пары!\")"
   ]
  },
  {
   "cell_type": "code",
   "execution_count": 5,
   "id": "22226d6f",
   "metadata": {},
   "outputs": [],
   "source": [
    "#создание_фукнции_тестов\n",
    "def dating_test():\n",
    "    assert dating_service() !=0"
   ]
  },
  {
   "cell_type": "code",
   "execution_count": 6,
   "id": "e59770e8",
   "metadata": {},
   "outputs": [
    {
     "name": "stdout",
     "output_type": "stream",
     "text": [
      "Введите имена парней через пробел:\n",
      "Peter Alex John Arthur Richard\n",
      "\n",
      "Введите имена девчонок через пробел:\n",
      "Kate Liza Kira Emma Trisha\n",
      "Исходный массив парней: \n",
      "Peter\n",
      "Alex\n",
      "John\n",
      "Arthur\n",
      "Richard\n",
      "\n",
      "Исходный массив девчонок: \n",
      "Kate\n",
      "Liza\n",
      "Kira\n",
      "Emma\n",
      "Trisha\n",
      "\n",
      "Отсортированный массив парней: \n",
      "Alex\n",
      "Arthur\n",
      "John\n",
      "Peter\n",
      "Richard\n",
      "\n",
      "Отсортированный массив девчонок: \n",
      "Emma\n",
      "Kate\n",
      "Kira\n",
      "Liza\n",
      "Trisha\n",
      "\n",
      "Результат:\n",
      "\n",
      "Идеальные пары:\n",
      "Alex и Emma\n",
      "Arthur и Kate\n",
      "John и Kira\n",
      "Peter и Liza\n",
      "Richard и Trisha\n"
     ]
    }
   ],
   "source": [
    "#вызов_функции_тестов\n",
    "dating_test()"
   ]
  },
  {
   "cell_type": "code",
   "execution_count": 7,
   "id": "2ac83471",
   "metadata": {},
   "outputs": [
    {
     "name": "stdout",
     "output_type": "stream",
     "text": [
      "Введите имена парней через пробел:\n",
      "Peter Alex John Arthur Richard Michael\n",
      "\n",
      "Введите имена девчонок через пробел:\n",
      "Kate Liza Kira Emma Trisha\n",
      "Внимание, кто-то может остаться без пары!\n"
     ]
    }
   ],
   "source": [
    "#вызов_функции_тестов\n",
    "dating_test()"
   ]
  },
  {
   "cell_type": "code",
   "execution_count": null,
   "id": "f94e8747",
   "metadata": {},
   "outputs": [],
   "source": []
  }
 ],
 "metadata": {
  "kernelspec": {
   "display_name": "Python 3 (ipykernel)",
   "language": "python",
   "name": "python3"
  },
  "language_info": {
   "codemirror_mode": {
    "name": "ipython",
    "version": 3
   },
   "file_extension": ".py",
   "mimetype": "text/x-python",
   "name": "python",
   "nbconvert_exporter": "python",
   "pygments_lexer": "ipython3",
   "version": "3.9.12"
  }
 },
 "nbformat": 4,
 "nbformat_minor": 5
}
