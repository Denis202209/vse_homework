{
 "cells": [
  {
   "cell_type": "markdown",
   "metadata": {
    "id": "mVQgHC4kkKfy"
   },
   "source": [
    "# задача 1"
   ]
  },
  {
   "cell_type": "markdown",
   "metadata": {
    "id": "hY_F5Yw1kKfz"
   },
   "source": [
    "Переведите содержимое файла purchase_log.txt в словарь purchases вида:\n",
    "{'1840e0b9d4': 'Продукты', ...}"
   ]
  },
  {
   "cell_type": "code",
   "execution_count": 3,
   "metadata": {
    "id": "ZfG2RQ12lKeu"
   },
   "outputs": [],
   "source": [
    "import json"
   ]
  },
  {
   "cell_type": "code",
   "execution_count": 4,
   "metadata": {
    "id": "VtXsB7h6lL0h"
   },
   "outputs": [],
   "source": [
    "purchases = {}"
   ]
  },
  {
   "cell_type": "code",
   "execution_count": 25,
   "metadata": {
    "id": "URxDaH4jlXYr"
   },
   "outputs": [],
   "source": [
    "with open('C:/Users/78136/Downloads/purchase_log.txt','r',encoding='utf-8') as file:\n",
    "     text = file.read()"
   ]
  },
  {
   "cell_type": "code",
   "execution_count": 26,
   "metadata": {
    "colab": {
     "base_uri": "https://localhost:8080/",
     "height": 35
    },
    "id": "Ka8bZCd_lYp8",
    "outputId": "0cd5b5fd-c2d3-4f7a-bc24-0cb29be5ae49"
   },
   "outputs": [
    {
     "data": {
      "text/plain": [
       "''"
      ]
     },
     "execution_count": 26,
     "metadata": {},
     "output_type": "execute_result"
    }
   ],
   "source": [
    "text_itog = text.split(\"\\n\")\n",
    "text_itog.pop(-1)"
   ]
  },
  {
   "cell_type": "code",
   "execution_count": 27,
   "metadata": {
    "id": "tk2EcoNJkKfz"
   },
   "outputs": [],
   "source": [
    "for line in text_itog:\n",
    "    json_line = json.loads(line)\n",
    "    user_id = json_line[\"user_id\"]\n",
    "    category = json_line[\"category\"]\n",
    "    purchases[user_id] = category"
   ]
  },
  {
   "cell_type": "code",
   "execution_count": 28,
   "metadata": {
    "colab": {
     "base_uri": "https://localhost:8080/"
    },
    "id": "L0hj2JbhkKf0",
    "outputId": "c3280162-81e0-43e0-fc89-3ad7256d798d"
   },
   "outputs": [
    {
     "name": "stdout",
     "output_type": "stream",
     "text": [
      "user_id category\n",
      "1840e0b9d4 Продукты\n",
      "4e4f90fcfb Электроника\n",
      "afea8d72fc Электроника\n",
      "373a6055fe Бытовая техника\n",
      "9b2ab046f3 Электроника\n",
      "9f39d307c3 Электроника\n",
      "44edeffc91 Продукты\n",
      "704474fa2d Продукты\n",
      "1de31be403 Бытовая техника\n"
     ]
    }
   ],
   "source": [
    "counter = 0\n",
    "for i in purchases:\n",
    "    if counter < 10:\n",
    "        print(i, purchases[i])\n",
    "        counter += 1\n",
    "    else:\n",
    "        break"
   ]
  },
  {
   "cell_type": "code",
   "execution_count": 29,
   "metadata": {
    "colab": {
     "base_uri": "https://localhost:8080/"
    },
    "id": "ETTAUY3eniMb",
    "outputId": "a3df64e7-8d25-43dd-82a7-b0dbbe12b658"
   },
   "outputs": [
    {
     "name": "stdout",
     "output_type": "stream",
     "text": [
      "<class 'dict'>\n"
     ]
    }
   ],
   "source": [
    "print(type(purchases))"
   ]
  },
  {
   "cell_type": "markdown",
   "metadata": {
    "id": "Q9qAavePkKf1"
   },
   "source": [
    "#  задача 2"
   ]
  },
  {
   "cell_type": "markdown",
   "metadata": {
    "id": "DmMp6XRKkKf3"
   },
   "source": [
    "Для каждого user_id в файле visit_log.csv определите третий столбец с категорией покупки. Если покупка была, сам файл visit_log.csv изменять не надо.\n",
    "Запишите в файл funnel.csv визиты из файла visit_log.csv, в которых были покупки с указанием категории.\n",
    "Учтите условия для данных:\n"
   ]
  },
  {
   "cell_type": "code",
   "execution_count": 43,
   "metadata": {
    "id": "qkDfMqKXq30y"
   },
   "outputs": [],
   "source": [
    "import csv"
   ]
  },
  {
   "cell_type": "code",
   "execution_count": 44,
   "metadata": {
    "id": "vp_f7mPlq5Yz"
   },
   "outputs": [],
   "source": [
    "myData = []"
   ]
  },
  {
   "cell_type": "code",
   "execution_count": 45,
   "metadata": {
    "id": "cQfBNzAtq70Y"
   },
   "outputs": [],
   "source": [
    "with open('C:/Users/78136/Downloads/visit_log.csv', newline='') as File:  \n",
    "    reader = csv.reader(File)\n",
    "    for row in reader:\n",
    "        try:\n",
    "            category = purchases[row[0]]\n",
    "            myData.append([row[0], category])\n",
    "        except:\n",
    "            continue"
   ]
  },
  {
   "cell_type": "code",
   "execution_count": 46,
   "metadata": {
    "id": "yGG2OD8DkKf3",
    "scrolled": true
   },
   "outputs": [],
   "source": [
    "with open('C:/Users/78136/Downloads/funnel.csv', 'w', newline='') as f:\n",
    "    writer = csv.writer(f)\n",
    "    writer.writerows(myData)"
   ]
  },
  {
   "cell_type": "code",
   "execution_count": null,
   "metadata": {},
   "outputs": [],
   "source": []
  },
  {
   "cell_type": "code",
   "execution_count": null,
   "metadata": {},
   "outputs": [],
   "source": []
  }
 ],
 "metadata": {
  "colab": {
   "collapsed_sections": [],
   "provenance": []
  },
  "kernelspec": {
   "display_name": "Python 3 (ipykernel)",
   "language": "python",
   "name": "python3"
  },
  "language_info": {
   "codemirror_mode": {
    "name": "ipython",
    "version": 3
   },
   "file_extension": ".py",
   "mimetype": "text/x-python",
   "name": "python",
   "nbconvert_exporter": "python",
   "pygments_lexer": "ipython3",
   "version": "3.9.12"
  },
  "vscode": {
   "interpreter": {
    "hash": "81e3cc47525a9551a88a1c0be9662d44fcc77de8bd3f5fb652e007b89b2b4c93"
   }
  }
 },
 "nbformat": 4,
 "nbformat_minor": 1
}
