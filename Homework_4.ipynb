{
 "cells": [
  {
   "cell_type": "markdown",
   "metadata": {
    "id": "0yCCdS3qbBz3"
   },
   "source": [
    "#### Вам нужно помочь секретарю автоматизировать работу. Для этого нужно написать программу, которая будет на основе хранимых данных исполнять пользовательские команды.\n",
    "\n",
    "##### Исходные данные имеют следующую структуру: \n",
    "\n",
    "##### *1. перечень всех документов* \n",
    "##### documents = [{'type': 'passport', 'number': '2207 876234', 'name': 'Василий Гупкин'}, {'type': 'invoice', 'number': '11-2', 'name': 'Геннадий Покемонов'},{'type': 'insurance', 'number': '10006', 'name': 'Аристарх Павлов'}]\n",
    "\n",
    "##### *2. перечень полок, на которых хранятся документы (если документ есть в documents, он обязательно должен быть и в directories)*\n",
    "##### directories = {'1': ['2207 876234', '11-2'], '2': ['10006'],'3': []}\n"
   ]
  },
  {
   "cell_type": "code",
   "execution_count": 36,
   "metadata": {
    "id": "FoXvojCgdfHI"
   },
   "outputs": [],
   "source": [
    "#подключение_системных_библиотек\n",
    "import os\n",
    "import sys\n",
    "import time\n",
    "\n",
    "#подключение_библиотек_по_работе_с_данными\n",
    "import numpy as np\n",
    "import pandas as pd"
   ]
  },
  {
   "cell_type": "code",
   "execution_count": 63,
   "metadata": {
    "colab": {
     "base_uri": "https://localhost:8080/"
    },
    "id": "pCumlHwpatA6",
    "outputId": "07189c5b-0cc4-4686-ce79-48eca15c911a"
   },
   "outputs": [
    {
     "name": "stdout",
     "output_type": "stream",
     "text": [
      "CPU times: user 9 µs, sys: 0 ns, total: 9 µs\n",
      "Wall time: 14.3 µs\n"
     ]
    }
   ],
   "source": [
    "%%time\n",
    "\n",
    "#исходные_данные\n",
    "documents = [{'type': 'passport', 'number': '2207 876234', 'name': 'Василий Гупкин', 'shelf': '11'}, \n",
    "             {'type': 'invoice', 'number': '11-2', 'name': 'Геннадий Покемонов', 'shelf': '21'},\n",
    "             {'type': 'insurance', 'number': '10006', 'name': 'Аристарх Павлов', 'shelf': '17'}]\n",
    "\n",
    "directories = {'1': ['2207 876234', '11-2'], \n",
    "               '2': ['10006'],\n",
    "               '3': ['Василий Гупкин'],\n",
    "               '4': ['11', '21']}"
   ]
  },
  {
   "cell_type": "code",
   "execution_count": 38,
   "metadata": {
    "colab": {
     "base_uri": "https://localhost:8080/"
    },
    "id": "YMKtNPbmd4mW",
    "outputId": "511d7ec1-4d50-44cf-e497-2953c0b42c54"
   },
   "outputs": [
    {
     "name": "stdout",
     "output_type": "stream",
     "text": [
      "CPU times: user 6 µs, sys: 0 ns, total: 6 µs\n",
      "Wall time: 10 µs\n"
     ]
    }
   ],
   "source": [
    "%%time\n",
    "\n",
    "#функция_ввода_данных\n",
    "def input_data(slovar):\n",
    "    print(\"Введенные исходные данные: \\n\")\n",
    "    return slovar "
   ]
  },
  {
   "cell_type": "code",
   "execution_count": 39,
   "metadata": {
    "colab": {
     "base_uri": "https://localhost:8080/"
    },
    "id": "UNq-HHm2fAdJ",
    "outputId": "c34ec82d-5f18-47cc-d881-deec0248a2bb"
   },
   "outputs": [
    {
     "name": "stdout",
     "output_type": "stream",
     "text": [
      "CPU times: user 3 µs, sys: 0 ns, total: 3 µs\n",
      "Wall time: 7.15 µs\n"
     ]
    }
   ],
   "source": [
    "%%time\n",
    "\n",
    "#функция_выбора_s_p_i\n",
    "def func_vibor():\n",
    "    #ввод_исходных_данных\n",
    "    print(\"Выберите необходимый пункт: p - поиск по номеру документа, s - поиск по номеру полки, i - пополнение данных\")\n",
    "    keyboardInput = input()\n",
    "\n",
    "    #варианты_выбора\n",
    "    try:\n",
    "        if(keyboardInput == 'p'):\n",
    "          print(\"\\nВыбран поиск по номеру документа\")\n",
    "        if(keyboardInput == 's'):\n",
    "          print(\"\\nВыбран поиск по номеру полки\")\n",
    "        if(keyboardInput == 'i'):\n",
    "          print(\"\\nВыбрано пополнение данных\")\n",
    "    except:\n",
    "          print(\"Данные введены не корректно\")\n",
    "\n",
    "    #возврат_значения_выбора\n",
    "    return keyboardInput"
   ]
  },
  {
   "cell_type": "markdown",
   "metadata": {
    "id": "qXPtelkZbsc2"
   },
   "source": [
    "#### Задание 1\n",
    "##### Пользователь по команде «p» может узнать владельца документа по его номеру. Пример работы программы:\n",
    "##### Введите команду: p Введите номер документа: 10006 Результат: Владелец документа: Аристарх Павлов"
   ]
  },
  {
   "cell_type": "code",
   "execution_count": 72,
   "metadata": {
    "colab": {
     "base_uri": "https://localhost:8080/"
    },
    "id": "3OfQDDDNgQ7J",
    "outputId": "b6a2711e-e800-4e15-e0d8-78f05457303c"
   },
   "outputs": [
    {
     "name": "stdout",
     "output_type": "stream",
     "text": [
      "CPU times: user 4 µs, sys: 1e+03 ns, total: 5 µs\n",
      "Wall time: 7.87 µs\n"
     ]
    }
   ],
   "source": [
    "%%time\n",
    "\n",
    "#функция_поиcка_номеру_документа\n",
    "def poisk_docs(directories):\n",
    "    #начальные_данные\n",
    "    docsData = 0\n",
    "    massNumber = []\n",
    "\n",
    "    #цикл_внесения_данных\n",
    "    while(docsData != 'q'):\n",
    "          print(\"Введите номер документа, либо q для завершения ввода: \")\n",
    "          docsData = input()\n",
    "          massNumber.append(docsData)\n",
    "    \n",
    "    #удаление_последнего_элемента\n",
    "    massNumber.pop(len(massNumber)-1)\n",
    "\n",
    "    #поиск_по_по_номеру_документа\n",
    "    for i in range(len(directories['1'])):\n",
    "        if(directories['1'][i] == massNumber[0]):\n",
    "          print(\"Владелец документа: \", directories['3'][i])"
   ]
  },
  {
   "cell_type": "markdown",
   "metadata": {
    "id": "9-FdZjlQcKVQ"
   },
   "source": [
    "#### Задание 2 (не обязательное)\n",
    "##### Секретарь по команде «s» может по номеру документа узнать, на какой полке документ хранится. Пример работы программы:\n",
    "##### Введите команду: s Введите номер документа: 10006 Результат: Документ хранится на полке: 21"
   ]
  },
  {
   "cell_type": "code",
   "execution_count": 71,
   "metadata": {
    "colab": {
     "base_uri": "https://localhost:8080/"
    },
    "id": "h0FxTCHgcXlt",
    "outputId": "041962c2-a933-40c8-f03f-6a772748cec8"
   },
   "outputs": [
    {
     "name": "stdout",
     "output_type": "stream",
     "text": [
      "CPU times: user 4 µs, sys: 0 ns, total: 4 µs\n",
      "Wall time: 7.15 µs\n"
     ]
    }
   ],
   "source": [
    "%%time\n",
    "\n",
    "#функция_поиcка_полки\n",
    "def poisk_polka(directories):\n",
    "    #пустой_массив_для_заполнения\n",
    "    docsData = 0\n",
    "    massNumber = []\n",
    "\n",
    "    #цикл_внесения_данных\n",
    "    while(docsData != 'q'):\n",
    "          print(\"Введите номер документа, либо q для завершения ввода: \")\n",
    "          docsData = input()\n",
    "          massNumber.append(docsData)\n",
    "          \n",
    "    #удаление_последнего_элемента\n",
    "    massNumber.pop(len(massNumber)-1)\n",
    "\n",
    "    #поиск_по_по_номеру_документа\n",
    "    for i in range(len(directories['1'])):\n",
    "        if(directories['1'][i] == massNumber[0]):\n",
    "          print(\"Документ хранится на полке: \", directories['4'][i])"
   ]
  },
  {
   "cell_type": "markdown",
   "metadata": {
    "id": "uTOqsEDukYbS"
   },
   "source": [
    "#### Общая функция программы"
   ]
  },
  {
   "cell_type": "code",
   "execution_count": 51,
   "metadata": {
    "id": "gtvPWkRYkddF"
   },
   "outputs": [],
   "source": [
    "#главная_функция_заполннения\n",
    "def main_function(directories):\n",
    "    dataVibor = func_vibor()\n",
    "    if(dataVibor == 'p'):\n",
    "      poisk_docs(directories)\n",
    "    if(dataVibor == 's'):\n",
    "      poisk_polka(directories)"
   ]
  },
  {
   "cell_type": "markdown",
   "metadata": {
    "id": "K6kcoi_rih1O"
   },
   "source": [
    "#### Работа программы"
   ]
  },
  {
   "cell_type": "code",
   "execution_count": 45,
   "metadata": {
    "id": "zMw7pC2YismM"
   },
   "outputs": [],
   "source": [
    "#простой_тест\n",
    "def test_main(directories):\n",
    "    assert main_function(directories) != 0"
   ]
  },
  {
   "cell_type": "code",
   "execution_count": 73,
   "metadata": {
    "colab": {
     "base_uri": "https://localhost:8080/"
    },
    "id": "0MChwqW-bEDt",
    "outputId": "1ba5cd6a-934f-41d2-ec2e-1f525d51ed90"
   },
   "outputs": [
    {
     "name": "stdout",
     "output_type": "stream",
     "text": [
      "Выберите необходимый пункт: p - поиск по номеру документа, s - поиск по номеру полки, i - пополнение данных\n",
      "p\n",
      "\n",
      "Выбран поиск по номеру документа\n",
      "Введите номер документа, либо q для завершения ввода: \n",
      "2207 876234\n",
      "Введите номер документа, либо q для завершения ввода: \n",
      "q\n",
      "Владелец документа:  Василий Гупкин\n"
     ]
    }
   ],
   "source": [
    "#запуск_программы\n",
    "test_main(directories)"
   ]
  },
  {
   "cell_type": "code",
   "execution_count": 74,
   "metadata": {
    "colab": {
     "base_uri": "https://localhost:8080/"
    },
    "id": "ICUR7JUgcqyz",
    "outputId": "607e05c4-00f9-422f-dfa4-27a05ac9a2af"
   },
   "outputs": [
    {
     "name": "stdout",
     "output_type": "stream",
     "text": [
      "Выберите необходимый пункт: p - поиск по номеру документа, s - поиск по номеру полки, i - пополнение данных\n",
      "s\n",
      "\n",
      "Выбран поиск по номеру полки\n",
      "Введите номер документа, либо q для завершения ввода: \n",
      "11-2\n",
      "Введите номер документа, либо q для завершения ввода: \n",
      "q\n",
      "Документ хранится на полке:  21\n"
     ]
    }
   ],
   "source": [
    "#запуск_программы\n",
    "test_main(directories)"
   ]
  }
 ],
 "metadata": {
  "colab": {
   "collapsed_sections": [],
   "provenance": []
  },
  "kernelspec": {
   "display_name": "Python 3 (ipykernel)",
   "language": "python",
   "name": "python3"
  },
  "language_info": {
   "codemirror_mode": {
    "name": "ipython",
    "version": 3
   },
   "file_extension": ".py",
   "mimetype": "text/x-python",
   "name": "python",
   "nbconvert_exporter": "python",
   "pygments_lexer": "ipython3",
   "version": "3.9.12"
  }
 },
 "nbformat": 4,
 "nbformat_minor": 1
}
