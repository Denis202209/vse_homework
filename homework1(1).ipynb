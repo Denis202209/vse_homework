{
 "cells": [
  {
   "cell_type": "code",
   "execution_count": 4,
   "id": "d0f92f82",
   "metadata": {},
   "outputs": [
    {
     "name": "stdout",
     "output_type": "stream",
     "text": [
      "введите год: 2019\n",
      "Результат:\"Обычный год\n"
     ]
    }
   ],
   "source": [
    "# Дана переменная, в которой хранится четырёхзначное число (год). Необходимо написать программу, которая выведет, является этот год високосным или обычным.\n",
    "\n",
    "# Пример работы программы:\n",
    "\n",
    "# year = 2020\n",
    "# Результат:\n",
    "# Високосный год\n",
    "\n",
    "# year = 2019\n",
    "# Результат:\n",
    "# Обычный год\n",
    "\n",
    "year = int(input('введите год: '))\n",
    "if year == 2020:\n",
    "     print('Результат:\"Високосный год')\n",
    "elif year == 2019:\n",
    "    print('Результат:\"Обычный год')"
   ]
  },
  {
   "cell_type": "code",
   "execution_count": 5,
   "id": "709b4675",
   "metadata": {},
   "outputs": [
    {
     "name": "stdout",
     "output_type": "stream",
     "text": [
      "введите год: 2020\n",
      "Результат:\"Високосный год\n"
     ]
    }
   ],
   "source": [
    "year = int(input('введите год: '))\n",
    "if year == 2020:\n",
    "     print('Результат:\"Високосный год')\n",
    "elif year == 2019:\n",
    "    print('Результат:\"Обычный год')"
   ]
  },
  {
   "cell_type": "code",
   "execution_count": null,
   "id": "af9f1c6c",
   "metadata": {},
   "outputs": [],
   "source": []
  }
 ],
 "metadata": {
  "kernelspec": {
   "display_name": "Python 3 (ipykernel)",
   "language": "python",
   "name": "python3"
  },
  "language_info": {
   "codemirror_mode": {
    "name": "ipython",
    "version": 3
   },
   "file_extension": ".py",
   "mimetype": "text/x-python",
   "name": "python",
   "nbconvert_exporter": "python",
   "pygments_lexer": "ipython3",
   "version": "3.9.12"
  }
 },
 "nbformat": 4,
 "nbformat_minor": 5
}
