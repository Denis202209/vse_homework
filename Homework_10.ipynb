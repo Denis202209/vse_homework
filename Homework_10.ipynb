{
 "cells": [
  {
   "cell_type": "markdown",
   "metadata": {
    "id": "uh6_V8tc6fyR"
   },
   "source": [
    "# Задача №1. "
   ]
  },
  {
   "cell_type": "code",
   "execution_count": 51,
   "metadata": {},
   "outputs": [],
   "source": [
    "import re\n",
    "\n",
    "def is_palindrom(value: str) -> bool:\n",
    "    value = value.lower()\n",
    "    pattern = r\"[^a-z0-9а-я]\"\n",
    "    value = re.sub(pattern, \"\", value)\n",
    "    return value == value[-1: : -1]"
   ]
  },
  {
   "cell_type": "code",
   "execution_count": 52,
   "metadata": {},
   "outputs": [
    {
     "name": "stderr",
     "output_type": "stream",
     "text": [
      "test_incorrect_values (__main__.TestPalindrom)\n",
      "Класс некорректных значений ... ok\n",
      "test_single (__main__.TestPalindrom)\n",
      "Первый класс эквивалентности: простая строка в одном регистре. без пробелов, цифр и знаков пунктуации ... ok\n",
      "test_with_case (__main__.TestPalindrom)\n",
      "Третий класс эквивалентности: строка с символами в разных регистрах ... ok\n",
      "test_with_digit (__main__.TestPalindrom)\n",
      "Второй класс эквивалентности: строка с цифрами ... ok\n",
      "test_with_space (__main__.TestPalindrom)\n",
      "Четвертый класс эквивалентности: строка с пробелами и знаками пунктуации ... ok\n",
      "test_make_format_for_value (__main__.TestRate) ... ok\n",
      "test_make_format_forfull (__main__.TestRate) ... ok\n",
      "\n",
      "----------------------------------------------------------------------\n",
      "Ran 7 tests in 0.016s\n",
      "\n",
      "OK\n"
     ]
    },
    {
     "data": {
      "text/plain": [
       "<unittest.main.TestProgram at 0x215b0484850>"
      ]
     },
     "execution_count": 52,
     "metadata": {},
     "output_type": "execute_result"
    }
   ],
   "source": [
    "import unittest\n",
    "\n",
    "class TestPalindrom(unittest.TestCase):\n",
    "    \n",
    "    def test_single(self):\n",
    "        '''\n",
    "        Первый класс эквивалентности: простая строка в одном регистре. без пробелов, цифр и знаков пунктуации\n",
    "        '''\n",
    "        self.assertTrue(is_palindrom(''))\n",
    "        self.assertTrue(is_palindrom('asdfdsa'))\n",
    "        self.assertTrue(is_palindrom('asdffdsa'))\n",
    "        self.assertTrue(is_palindrom('апрорпа'))\n",
    "        self.assertTrue(is_palindrom('апроорпа'))\n",
    "        \n",
    "    def test_with_digit(self):\n",
    "        '''\n",
    "        Второй класс эквивалентности: строка с цифрами\n",
    "        '''\n",
    "        self.assertTrue(is_palindrom('as6f6sa'))\n",
    "        self.assertTrue(is_palindrom('asd00dsa'))\n",
    "        self.assertTrue(is_palindrom('1апрорпа1'))\n",
    "        self.assertTrue(is_palindrom('апро4орпа'))\n",
    "        self.assertTrue(is_palindrom('123454321'))\n",
    "    \n",
    "    def test_with_case(self):\n",
    "        '''\n",
    "        Третий класс эквивалентности: строка с символами в разных регистрах\n",
    "        '''\n",
    "        self.assertTrue(is_palindrom('asDfdsa'))\n",
    "        self.assertTrue(is_palindrom('asdfFdsa'))\n",
    "        self.assertTrue(is_palindrom('апрорПа'))\n",
    "        self.assertTrue(is_palindrom('апРоорпа'))\n",
    "        \n",
    "    def test_with_space(self):\n",
    "        '''\n",
    "        Четвертый класс эквивалентности: строка с пробелами и знаками пунктуации\n",
    "        '''\n",
    "        self.assertTrue(is_palindrom('as d  f,ds.a'))\n",
    "        self.assertTrue(is_palindrom('a:sd;f-fdsa'))\n",
    "        self.assertTrue(is_palindrom('  ап-ро!рп        а'))\n",
    "        self.assertTrue(is_palindrom('а   про , ,, ор..па'))\n",
    "        self.assertTrue('.,.,.-   -..')\n",
    "        \n",
    "    def test_incorrect_values(self):\n",
    "        '''\n",
    "        Класс некорректных значений\n",
    "        '''\n",
    "        self.assertFalse(is_palindrom('asd32'))\n",
    "        self.assertFalse(is_palindrom('3232'))\n",
    "        \n",
    "unittest.main(argv=[''], verbosity=2, exit=False)"
   ]
  },
  {
   "cell_type": "markdown",
   "metadata": {},
   "source": [
    "# Задача к заданию № 2"
   ]
  },
  {
   "cell_type": "code",
   "execution_count": 53,
   "metadata": {},
   "outputs": [],
   "source": [
    "class Employee:\n",
    "    def __init__(self, name, seniority):\n",
    "        self.name = name\n",
    "        self.seniority = seniority\n",
    "        \n",
    "        self.grade = 1\n",
    "    \n",
    "    def grade_up(self):\n",
    "        \"\"\"Повышает уровень сотрудника\"\"\"\n",
    "        self.grade += 1\n",
    "    \n",
    "    def publish_grade(self):\n",
    "        \"\"\"Публикация результатов аккредитации сотрудников\"\"\"\n",
    "        print(self.name, self.grade)\n",
    "    \n",
    "    def check_if_it_is_time_for_upgrade(self):\n",
    "        pass"
   ]
  },
  {
   "cell_type": "code",
   "execution_count": 54,
   "metadata": {},
   "outputs": [],
   "source": [
    "class Designer(Employee):\n",
    "    def __init__(self, name, seniority, awards):\n",
    "        super().__init__(name, seniority)\n",
    "        self.awards = awards\n",
    "        self.seniority += self.awards * 2\n",
    "       \n",
    "    def get_award(self):\n",
    "        self.awards += 1\n",
    "        self.seniority += 2\n",
    "        \n",
    "    def check_if_it_is_time_for_upgrade(self):\n",
    "        #для_каждой_аккредитации_увеличиваем_счетчик_на_1\n",
    "        #пока_считаем,_что_все_разработчики_проходят_аккредитацию\n",
    "        self.seniority += 1\n",
    "        \n",
    "        #условие_повышения_сотрудника_из_презентации\n",
    "        if self.seniority % 7 == 0:\n",
    "            self.grade_up()\n",
    "        \n",
    "        #публикация_результатов\n",
    "        return self.publish_grade()"
   ]
  },
  {
   "cell_type": "code",
   "execution_count": 55,
   "metadata": {},
   "outputs": [],
   "source": [
    "elena = Designer('Елена', seniority=0, awards=2)"
   ]
  },
  {
   "cell_type": "code",
   "execution_count": 56,
   "metadata": {},
   "outputs": [
    {
     "name": "stdout",
     "output_type": "stream",
     "text": [
      "Елена 2\n",
      "Елена 2\n",
      "Елена 2\n",
      "Елена 2\n",
      "Елена 2\n",
      "Елена 2\n",
      "Елена 2\n",
      "Елена 3\n",
      "Елена 3\n",
      "Елена 3\n",
      "Елена 3\n",
      "Елена 3\n",
      "Елена 3\n",
      "Елена 3\n",
      "Елена 4\n",
      "Елена 4\n",
      "Елена 4\n",
      "Елена 4\n",
      "Елена 4\n",
      "Елена 4\n"
     ]
    }
   ],
   "source": [
    "elena.get_award()\n",
    "for i in range(20):\n",
    "    elena.check_if_it_is_time_for_upgrade()"
   ]
  },
  {
   "cell_type": "markdown",
   "metadata": {},
   "source": [
    "# Текст к задаче (Задание № 2)"
   ]
  },
  {
   "cell_type": "code",
   "execution_count": 57,
   "metadata": {},
   "outputs": [
    {
     "name": "stdout",
     "output_type": "stream",
     "text": [
      "Requirement already satisfied: ipytest in c:\\users\\78136\\anaconda3\\lib\\site-packages (0.13.0)\n",
      "Requirement already satisfied: ipython in c:\\users\\78136\\anaconda3\\lib\\site-packages (from ipytest) (8.2.0)\n",
      "Requirement already satisfied: packaging in c:\\users\\78136\\anaconda3\\lib\\site-packages (from ipytest) (21.3)\n",
      "Requirement already satisfied: pytest>=5.4 in c:\\users\\78136\\anaconda3\\lib\\site-packages (from ipytest) (7.1.1)\n",
      "Requirement already satisfied: attrs>=19.2.0 in c:\\users\\78136\\anaconda3\\lib\\site-packages (from pytest>=5.4->ipytest) (21.4.0)\n",
      "Requirement already satisfied: iniconfig in c:\\users\\78136\\anaconda3\\lib\\site-packages (from pytest>=5.4->ipytest) (1.1.1)\n",
      "Requirement already satisfied: pluggy<2.0,>=0.12 in c:\\users\\78136\\anaconda3\\lib\\site-packages (from pytest>=5.4->ipytest) (1.0.0)\n",
      "Requirement already satisfied: py>=1.8.2 in c:\\users\\78136\\anaconda3\\lib\\site-packages (from pytest>=5.4->ipytest) (1.11.0)\n",
      "Requirement already satisfied: tomli>=1.0.0 in c:\\users\\78136\\anaconda3\\lib\\site-packages (from pytest>=5.4->ipytest) (1.2.2)\n",
      "Requirement already satisfied: atomicwrites>=1.0 in c:\\users\\78136\\anaconda3\\lib\\site-packages (from pytest>=5.4->ipytest) (1.4.0)\n",
      "Requirement already satisfied: colorama in c:\\users\\78136\\anaconda3\\lib\\site-packages (from pytest>=5.4->ipytest) (0.4.4)\n",
      "Requirement already satisfied: setuptools>=18.5 in c:\\users\\78136\\anaconda3\\lib\\site-packages (from ipython->ipytest) (61.2.0)\n",
      "Requirement already satisfied: stack-data in c:\\users\\78136\\anaconda3\\lib\\site-packages (from ipython->ipytest) (0.2.0)\n",
      "Requirement already satisfied: pickleshare in c:\\users\\78136\\anaconda3\\lib\\site-packages (from ipython->ipytest) (0.7.5)\n",
      "Requirement already satisfied: traitlets>=5 in c:\\users\\78136\\anaconda3\\lib\\site-packages (from ipython->ipytest) (5.1.1)\n",
      "Requirement already satisfied: pygments>=2.4.0 in c:\\users\\78136\\anaconda3\\lib\\site-packages (from ipython->ipytest) (2.11.2)\n",
      "Requirement already satisfied: matplotlib-inline in c:\\users\\78136\\anaconda3\\lib\\site-packages (from ipython->ipytest) (0.1.2)\n",
      "Requirement already satisfied: jedi>=0.16 in c:\\users\\78136\\anaconda3\\lib\\site-packages (from ipython->ipytest) (0.18.1)\n",
      "Requirement already satisfied: prompt-toolkit!=3.0.0,!=3.0.1,<3.1.0,>=2.0.0 in c:\\users\\78136\\anaconda3\\lib\\site-packages (from ipython->ipytest) (3.0.20)\n",
      "Requirement already satisfied: decorator in c:\\users\\78136\\anaconda3\\lib\\site-packages (from ipython->ipytest) (5.1.1)\n",
      "Requirement already satisfied: backcall in c:\\users\\78136\\anaconda3\\lib\\site-packages (from ipython->ipytest) (0.2.0)\n",
      "Requirement already satisfied: parso<0.9.0,>=0.8.0 in c:\\users\\78136\\anaconda3\\lib\\site-packages (from jedi>=0.16->ipython->ipytest) (0.8.3)\n",
      "Requirement already satisfied: wcwidth in c:\\users\\78136\\anaconda3\\lib\\site-packages (from prompt-toolkit!=3.0.0,!=3.0.1,<3.1.0,>=2.0.0->ipython->ipytest) (0.2.5)\n",
      "Requirement already satisfied: pyparsing!=3.0.5,>=2.0.2 in c:\\users\\78136\\anaconda3\\lib\\site-packages (from packaging->ipytest) (3.0.4)\n",
      "Requirement already satisfied: executing in c:\\users\\78136\\anaconda3\\lib\\site-packages (from stack-data->ipython->ipytest) (0.8.3)\n",
      "Requirement already satisfied: pure-eval in c:\\users\\78136\\anaconda3\\lib\\site-packages (from stack-data->ipython->ipytest) (0.2.2)\n",
      "Requirement already satisfied: asttokens in c:\\users\\78136\\anaconda3\\lib\\site-packages (from stack-data->ipython->ipytest) (2.0.5)\n",
      "Requirement already satisfied: six in c:\\users\\78136\\anaconda3\\lib\\site-packages (from asttokens->stack-data->ipython->ipytest) (1.16.0)\n"
     ]
    }
   ],
   "source": [
    "!pip install ipytest"
   ]
  },
  {
   "cell_type": "code",
   "execution_count": 58,
   "metadata": {},
   "outputs": [
    {
     "name": "stdout",
     "output_type": "stream",
     "text": [
      "\u001b[32m.\u001b[0m\u001b[32m.\u001b[0m\u001b[32m.\u001b[0m\u001b[32m.\u001b[0m\u001b[32m.\u001b[0m\u001b[32m.\u001b[0m\u001b[32m.\u001b[0m\u001b[32m.\u001b[0m\u001b[32m                                                                                     [100%]\u001b[0m\n",
      "\u001b[32m\u001b[32m\u001b[1m8 passed\u001b[0m\u001b[32m in 0.05s\u001b[0m\u001b[0m\n"
     ]
    },
    {
     "data": {
      "text/plain": [
       "<ExitCode.OK: 0>"
      ]
     },
     "execution_count": 58,
     "metadata": {},
     "output_type": "execute_result"
    }
   ],
   "source": [
    "import pytest\n",
    "import ipytest\n",
    "ipytest.autoconfig()\n",
    "\n",
    "@pytest.fixture\n",
    "def designer():\n",
    "    def init_designer(seniority):\n",
    "      return Designer(name='Bob', awards=2, seniority=seniority)\n",
    "    return init_designer\n",
    "\n",
    "def test_one(designer):\n",
    "    empl = designer(seniority=2)\n",
    "    assert empl.seniority == 6\n",
    "    assert empl.grade == 1\n",
    "    \n",
    "    empl.check_if_it_is_time_for_upgrade()\n",
    "    assert empl.seniority == 7\n",
    "    assert empl.grade == 2  \n",
    "    \n",
    "ipytest.run()"
   ]
  },
  {
   "cell_type": "markdown",
   "metadata": {
    "id": "5ukyxIe-8bzL"
   },
   "source": [
    "# Задача к заданию № 3"
   ]
  },
  {
   "cell_type": "code",
   "execution_count": 59,
   "metadata": {
    "id": "RX794XCw8nWg"
   },
   "outputs": [],
   "source": [
    "import requests"
   ]
  },
  {
   "cell_type": "code",
   "execution_count": 60,
   "metadata": {
    "id": "bG8pXiAX7YCF"
   },
   "outputs": [],
   "source": [
    "class Rate:\n",
    "    def __init__(self, format_='value', diff_ = False):\n",
    "        self.format = format_\n",
    "        self.diff = diff_\n",
    "    \n",
    "    def exchange_rates(self):\n",
    "        self.r = requests.get('https://www.cbr-xml-daily.ru/daily_json.js')\n",
    "        return self.r.json()['Valute']\n",
    "    \n",
    "    def make_format(self, currency):\n",
    "        response = self.exchange_rates()\n",
    "        \n",
    "        if currency in response:\n",
    "            if self.format == 'full':\n",
    "                return response[currency]\n",
    "            \n",
    "            if self.format == 'value':\n",
    "                return response[currency]['Value']\n",
    "        \n",
    "        return 'Error'\n",
    "    \n",
    "    def eur(self):\n",
    "        if self.diff == True:\n",
    "            information = self.exchange_rates()\n",
    "            info_eur = information[\"EUR\"]\n",
    "            result = info_eur['Previous'] - info_eur['Value']\n",
    "            return result\n",
    "\n",
    "        if self.diff == False:\n",
    "            return self.make_format('EUR')\n",
    "    \n",
    "    def usd(self):\n",
    "        if self.diff == True:\n",
    "            information = self.exchange_rates()\n",
    "            info_eur = information[\"USD\"]\n",
    "            result = info_eur['Previous'] - info_eur['Value']\n",
    "            return result\n",
    "\n",
    "        if self.diff == False:\n",
    "            return self.make_format('USD')\n",
    "    \n",
    "    def brl(self):\n",
    "        if self.diff == True:\n",
    "            information = self.exchange_rates()\n",
    "            info_eur = information[\"BRL\"]\n",
    "            result = info_eur['Previous'] - info_eur['Value']\n",
    "            return result\n",
    "\n",
    "        if self.diff == False:\n",
    "            return self.make_format('BRL')"
   ]
  },
  {
   "cell_type": "code",
   "execution_count": 61,
   "metadata": {
    "id": "EstsZah89BBw"
   },
   "outputs": [],
   "source": [
    "emp1 = Rate(diff_ = True)"
   ]
  },
  {
   "cell_type": "code",
   "execution_count": 62,
   "metadata": {
    "colab": {
     "base_uri": "https://localhost:8080/"
    },
    "id": "f8Eig_rD9Nws",
    "outputId": "34160c3f-d077-454b-9f37-146c85620604"
   },
   "outputs": [
    {
     "data": {
      "text/plain": [
       "-0.5379000000000005"
      ]
     },
     "execution_count": 62,
     "metadata": {},
     "output_type": "execute_result"
    }
   ],
   "source": [
    "emp1.eur()"
   ]
  },
  {
   "cell_type": "code",
   "execution_count": 63,
   "metadata": {
    "colab": {
     "base_uri": "https://localhost:8080/"
    },
    "id": "3y2rMk-E9QrR",
    "outputId": "d84f26d5-648a-4cf6-b7d6-97fabab9133c"
   },
   "outputs": [
    {
     "data": {
      "text/plain": [
       "1.025500000000001"
      ]
     },
     "execution_count": 63,
     "metadata": {},
     "output_type": "execute_result"
    }
   ],
   "source": [
    "emp1.usd()"
   ]
  },
  {
   "cell_type": "code",
   "execution_count": 64,
   "metadata": {
    "colab": {
     "base_uri": "https://localhost:8080/"
    },
    "id": "ob8VkaD89T55",
    "outputId": "ab4cafb4-b102-4357-bc27-dd4ba51e3c6b"
   },
   "outputs": [
    {
     "data": {
      "text/plain": [
       "0.5140999999999991"
      ]
     },
     "execution_count": 64,
     "metadata": {},
     "output_type": "execute_result"
    }
   ],
   "source": [
    "emp1.brl()"
   ]
  },
  {
   "cell_type": "markdown",
   "metadata": {},
   "source": [
    "# Тест к задаче (Задание № 3)"
   ]
  },
  {
   "cell_type": "code",
   "execution_count": 65,
   "metadata": {},
   "outputs": [
    {
     "name": "stderr",
     "output_type": "stream",
     "text": [
      "test_incorrect_values (__main__.TestPalindrom)\n",
      "Класс некорректных значений ... ok\n",
      "test_single (__main__.TestPalindrom)\n",
      "Первый класс эквивалентности: простая строка в одном регистре. без пробелов, цифр и знаков пунктуации ... ok\n",
      "test_with_case (__main__.TestPalindrom)\n",
      "Третий класс эквивалентности: строка с символами в разных регистрах ... ok\n",
      "test_with_digit (__main__.TestPalindrom)\n",
      "Второй класс эквивалентности: строка с цифрами ... ok\n",
      "test_with_space (__main__.TestPalindrom)\n",
      "Четвертый класс эквивалентности: строка с пробелами и знаками пунктуации ... ok\n",
      "test_make_format_for_value (__main__.TestRate) ... ok\n",
      "test_make_format_forfull (__main__.TestRate) ... ok\n",
      "\n",
      "----------------------------------------------------------------------\n",
      "Ran 7 tests in 0.015s\n",
      "\n",
      "OK\n"
     ]
    },
    {
     "data": {
      "text/plain": [
       "<unittest.main.TestProgram at 0x215b0406460>"
      ]
     },
     "execution_count": 65,
     "metadata": {},
     "output_type": "execute_result"
    }
   ],
   "source": [
    "import unittest\n",
    "from unittest.mock import MagicMock\n",
    "\n",
    "data = {'USD': {'ID': 'R01235', \n",
    "                'NumCode': '840', \n",
    "                'CharCode': 'USD', \n",
    "                'Nominal': 1, 'Name': \n",
    "                'Доллар США', \n",
    "                'Value': 61.2434, \n",
    "                'Previous': 61.0611},}\n",
    "\n",
    "class TestRate(unittest.TestCase):\n",
    "\n",
    "    def test_make_format_for_value(self):\n",
    "        empl = Rate(format_='value', diff_=True)\n",
    "        empl.exchange_rates = MagicMock(return_value = data)\n",
    "        self.assertEqual(empl.make_format('bad_value'), 'Error')\n",
    "        \n",
    "        currency = 'USD'\n",
    "        self.assertEqual(empl.make_format(currency=currency), data[currency]['Value'])\n",
    "    \n",
    "    def test_make_format_forfull(self):\n",
    "        empl = Rate(format_='full', diff_=True)\n",
    "        empl.exchange_rates = MagicMock(return_value = data)\n",
    "        self.assertEqual(empl.make_format('bad_value'), 'Error')\n",
    "        \n",
    "        currency = 'USD'\n",
    "        self.assertEqual(empl.make_format(currency=currency), data[currency])\n",
    "\n",
    "unittest.main(argv=[''], verbosity=2, exit=False)"
   ]
  }
 ],
 "metadata": {
  "colab": {
   "collapsed_sections": [],
   "provenance": []
  },
  "kernelspec": {
   "display_name": "Python 3 (ipykernel)",
   "language": "python",
   "name": "python3"
  },
  "language_info": {
   "codemirror_mode": {
    "name": "ipython",
    "version": 3
   },
   "file_extension": ".py",
   "mimetype": "text/x-python",
   "name": "python",
   "nbconvert_exporter": "python",
   "pygments_lexer": "ipython3",
   "version": "3.9.12"
  }
 },
 "nbformat": 4,
 "nbformat_minor": 1
}
