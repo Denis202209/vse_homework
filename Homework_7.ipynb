{
 "cells": [
  {
   "cell_type": "markdown",
   "metadata": {
    "id": "uh6_V8tc6fyR"
   },
   "source": [
    "\n",
    "### Задача №1. Напишите функцию, которая возвращает название валюты (поле 'Name') с максимальным значением курса с помощью сервиса: https://www.cbr-xml-daily.ru/daily_json.js"
   ]
  },
  {
   "cell_type": "code",
   "execution_count": 1,
   "metadata": {
    "id": "GgNd6hm77eSL"
   },
   "outputs": [],
   "source": [
    "import requests"
   ]
  },
  {
   "cell_type": "code",
   "execution_count": 2,
   "metadata": {
    "id": "xvcOvdAF7fp3"
   },
   "outputs": [],
   "source": [
    "link = \"https://www.cbr-xml-daily.ru/daily_json.js\""
   ]
  },
  {
   "cell_type": "code",
   "execution_count": 3,
   "metadata": {
    "id": "oRpiOb8w5_hV"
   },
   "outputs": [],
   "source": [
    "def maxKurs(link):    \n",
    "    resultRequest = requests.get('https://www.cbr-xml-daily.ru/daily_json.js')\n",
    "    valute =  resultRequest.json()['Valute']\n",
    "    resDict = dict()\n",
    "    #print(resDict)\n",
    "\n",
    "    for i in valute:\n",
    "        resDict[valute[i][\"Name\"]] = valute[i][\"Value\"]\n",
    "    \n",
    "    final_dict = dict([max(resDict.items(), key=lambda k_v: k_v[1])])\n",
    "    print(final_dict)\n",
    "\n",
    "    for i in final_dict:\n",
    "        resultValue = i\n",
    "\n",
    "    return resultValue"
   ]
  },
  {
   "cell_type": "code",
   "execution_count": 4,
   "metadata": {
    "colab": {
     "base_uri": "https://localhost:8080/",
     "height": 53
    },
    "id": "UmXbi6bi8NK6",
    "outputId": "2e0c35e3-0f25-4d72-a80c-c074f56706f2"
   },
   "outputs": [
    {
     "name": "stdout",
     "output_type": "stream",
     "text": [
      "{'Китайских юаней': 84.5711}\n"
     ]
    },
    {
     "data": {
      "text/plain": [
       "'Китайских юаней'"
      ]
     },
     "execution_count": 4,
     "metadata": {},
     "output_type": "execute_result"
    }
   ],
   "source": [
    "maxKurs(link)"
   ]
  },
  {
   "cell_type": "markdown",
   "metadata": {
    "id": "5ukyxIe-8bzL"
   },
   "source": [
    "### Задача 2. Добавьте в класс Rate параметр diff (со значениями True или False), который в случае значения True в методах курсов валют (eur, usd итд) будет возвращать не курс валюты, а изменение по сравнению в прошлым значением. Считайте, self.diff будет принимать значение True только при возврате значения курса. При отображении всей информации о валюте он не используется."
   ]
  },
  {
   "cell_type": "code",
   "execution_count": 5,
   "metadata": {
    "id": "RX794XCw8nWg"
   },
   "outputs": [],
   "source": [
    "import requests"
   ]
  },
  {
   "cell_type": "code",
   "execution_count": 6,
   "metadata": {
    "id": "bG8pXiAX7YCF"
   },
   "outputs": [],
   "source": [
    "class Rate:\n",
    "    def __init__(self, format_='value', diff_ = False):\n",
    "        self.format = format_\n",
    "        self.diff = diff_\n",
    "    \n",
    "    def exchange_rates(self):\n",
    "        self.r = requests.get('https://www.cbr-xml-daily.ru/daily_json.js')\n",
    "        return self.r.json()['Valute']\n",
    "    \n",
    "    def make_format(self, currency):\n",
    "        response = self.exchange_rates()\n",
    "        \n",
    "        if currency in response:\n",
    "            if self.format == 'full':\n",
    "                return response[currency]\n",
    "            \n",
    "            if self.format == 'value':\n",
    "                return response[currency]['Value']\n",
    "        \n",
    "        return 'Error'\n",
    "    \n",
    "    def eur(self):\n",
    "        if self.diff == True:\n",
    "            information = self.exchange_rates()\n",
    "            info_eur = information[\"EUR\"]\n",
    "            result = info_eur['Previous'] - info_eur['Value']\n",
    "            return result\n",
    "\n",
    "        if self.diff == False:\n",
    "            return self.make_format('EUR')\n",
    "    \n",
    "    def usd(self):\n",
    "        if self.diff == True:\n",
    "            information = self.exchange_rates()\n",
    "            info_eur = information[\"USD\"]\n",
    "            result = info_eur['Previous'] - info_eur['Value']\n",
    "            return result\n",
    "\n",
    "        if self.diff == False:\n",
    "            return self.make_format('USD')\n",
    "    \n",
    "    def brl(self):\n",
    "        if self.diff == True:\n",
    "            information = self.exchange_rates()\n",
    "            info_eur = information[\"BRL\"]\n",
    "            result = info_eur['Previous'] - info_eur['Value']\n",
    "            return result\n",
    "\n",
    "        if self.diff == False:\n",
    "            return self.make_format('BRL')"
   ]
  },
  {
   "cell_type": "code",
   "execution_count": 7,
   "metadata": {
    "id": "EstsZah89BBw"
   },
   "outputs": [],
   "source": [
    "emp1 = Rate(diff_ = True)"
   ]
  },
  {
   "cell_type": "code",
   "execution_count": 8,
   "metadata": {
    "colab": {
     "base_uri": "https://localhost:8080/"
    },
    "id": "f8Eig_rD9Nws",
    "outputId": "ac9d5fa5-59db-40a9-b2c5-2006a9a0c58f"
   },
   "outputs": [
    {
     "data": {
      "text/plain": [
       "0.42139999999999844"
      ]
     },
     "execution_count": 8,
     "metadata": {},
     "output_type": "execute_result"
    }
   ],
   "source": [
    "emp1.eur()"
   ]
  },
  {
   "cell_type": "code",
   "execution_count": 9,
   "metadata": {
    "colab": {
     "base_uri": "https://localhost:8080/"
    },
    "id": "3y2rMk-E9QrR",
    "outputId": "5edaced9-cc73-454e-ad89-dc709d9b9b93"
   },
   "outputs": [
    {
     "data": {
      "text/plain": [
       "0.1127000000000038"
      ]
     },
     "execution_count": 9,
     "metadata": {},
     "output_type": "execute_result"
    }
   ],
   "source": [
    "emp1.usd()"
   ]
  },
  {
   "cell_type": "code",
   "execution_count": 10,
   "metadata": {
    "colab": {
     "base_uri": "https://localhost:8080/"
    },
    "id": "ob8VkaD89T55",
    "outputId": "5b890abb-9450-41e8-998e-25d58b4f5905"
   },
   "outputs": [
    {
     "data": {
      "text/plain": [
       "0.017900000000000915"
      ]
     },
     "execution_count": 10,
     "metadata": {},
     "output_type": "execute_result"
    }
   ],
   "source": [
    "emp1.brl()"
   ]
  },
  {
   "cell_type": "markdown",
   "metadata": {
    "id": "8rNW8Jsn_gm9"
   },
   "source": [
    "### Задача 3. Напишите класс Designer, который учитывает количество международных премий для дизайнеров (из презентации: \"Повышение на 1 грейд за каждые 7 баллов. Получение международной премии – это +2 балла\"). Считайте, что при выходе на работу сотрудник уже имеет две премии и их количество не меняется со стажем (конечно если хотите это можно вручную менять). Выполните проверку для 20 аккредитаций дизайнера Елены. Для проверки используйте код:"
   ]
  },
  {
   "cell_type": "code",
   "execution_count": 11,
   "metadata": {
    "id": "2Tl2dCBa_6d8"
   },
   "outputs": [],
   "source": [
    "class Employee:\n",
    "    def __init__(self, name, seniority):\n",
    "        self.name = name\n",
    "        self.seniority = seniority\n",
    "        \n",
    "        self.grade = 1\n",
    "    \n",
    "    def grade_up(self):\n",
    "        \"\"\"Повышает уровень сотрудника\"\"\"\n",
    "        self.grade += 1\n",
    "    \n",
    "    def publish_grade(self):\n",
    "        \"\"\"Публикация результатов аккредитации сотрудников\"\"\"\n",
    "        print(self.name, self.grade)\n",
    "    \n",
    "    def check_if_it_is_time_for_upgrade(self):\n",
    "        pass"
   ]
  },
  {
   "cell_type": "code",
   "execution_count": 12,
   "metadata": {
    "id": "dzOW2qeb9Wxq"
   },
   "outputs": [],
   "source": [
    "class Designer(Employee):\n",
    "    def __init__(self, name, seniority, awards):\n",
    "        super().__init__(name, seniority)\n",
    "        self.awards = awards\n",
    "        self.seniority += self.awards * 2\n",
    "       \n",
    "    def get_award(self):\n",
    "        self.awards += 1\n",
    "        self.seniority += 2\n",
    "        \n",
    "    def check_if_it_is_time_for_upgrade(self):\n",
    "        #для_каждой_аккредитации_увеличиваем_счетчик_на_1\n",
    "        #пока_считаем,_что_все_разработчики_проходят_аккредитацию\n",
    "        self.seniority += 1\n",
    "        \n",
    "        #условие_повышения_сотрудника_из_презентации\n",
    "        if self.seniority % 7 == 0:\n",
    "            self.grade_up()\n",
    "        \n",
    "        #публикация_результатов\n",
    "        return self.publish_grade()"
   ]
  },
  {
   "cell_type": "code",
   "execution_count": 13,
   "metadata": {
    "id": "QneFBQo1_z9T"
   },
   "outputs": [],
   "source": [
    "elena = Designer('Елена', seniority=0, awards=2)"
   ]
  },
  {
   "cell_type": "code",
   "execution_count": 14,
   "metadata": {
    "colab": {
     "base_uri": "https://localhost:8080/"
    },
    "id": "lCls2qa4_2Gl",
    "outputId": "12c4dea3-4bff-487c-c588-1480a8610572"
   },
   "outputs": [
    {
     "name": "stdout",
     "output_type": "stream",
     "text": [
      "Елена 2\n",
      "Елена 2\n",
      "Елена 2\n",
      "Елена 2\n",
      "Елена 2\n",
      "Елена 2\n",
      "Елена 2\n",
      "Елена 3\n",
      "Елена 3\n",
      "Елена 3\n",
      "Елена 3\n",
      "Елена 3\n",
      "Елена 3\n",
      "Елена 3\n",
      "Елена 4\n",
      "Елена 4\n",
      "Елена 4\n",
      "Елена 4\n",
      "Елена 4\n",
      "Елена 4\n"
     ]
    }
   ],
   "source": [
    "elena.get_award()\n",
    "for i in range(20):\n",
    "    elena.check_if_it_is_time_for_upgrade()"
   ]
  },
  {
   "cell_type": "code",
   "execution_count": null,
   "metadata": {},
   "outputs": [],
   "source": []
  }
 ],
 "metadata": {
  "colab": {
   "collapsed_sections": [],
   "provenance": []
  },
  "kernelspec": {
   "display_name": "Python 3 (ipykernel)",
   "language": "python",
   "name": "python3"
  },
  "language_info": {
   "codemirror_mode": {
    "name": "ipython",
    "version": 3
   },
   "file_extension": ".py",
   "mimetype": "text/x-python",
   "name": "python",
   "nbconvert_exporter": "python",
   "pygments_lexer": "ipython3",
   "version": "3.9.12"
  }
 },
 "nbformat": 4,
 "nbformat_minor": 1
}
