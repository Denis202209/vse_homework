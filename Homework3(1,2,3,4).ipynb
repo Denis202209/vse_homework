{
 "cells": [
  {
   "cell_type": "markdown",
   "metadata": {
    "id": "QYCvRAUq9zIq"
   },
   "source": [
    "### Задача_1(решено)"
   ]
  },
  {
   "cell_type": "markdown",
   "metadata": {
    "id": "2vt-KEki92lz"
   },
   "source": [
    "Дана переменная, в которой хранится словарь, содержащий гео-метки для каждого пользователя (пример структуры данных приведен ниже). Вам необходимо написать программу, которая выведет на экран множество уникальных геометок всех пользователей.\n",
    "\n",
    "Пример работы программы:\n",
    "\n",
    "ids = {'user1': [213, 213, 213, 15, 213], \n",
    "       'user2': [54, 54, 119, 119, 119], \n",
    "       'user3': [213, 98, 98, 35]}\n",
    "Результат: {98, 35, 15, 213, 54, 119}\n"
   ]
  },
  {
   "cell_type": "code",
   "execution_count": 1,
   "metadata": {
    "id": "j_gT53762xTI"
   },
   "outputs": [],
   "source": [
    "#импортирование_библиотек\n",
    "import numpy as np"
   ]
  },
  {
   "cell_type": "code",
   "execution_count": 9,
   "metadata": {
    "id": "ip8dvdIbwCIW"
   },
   "outputs": [],
   "source": [
    "#функция_поиска_уникальных_значений\n",
    "def find_unique_values(massive):\n",
    "    #создание_массива \n",
    "    massive_unique = []\n",
    "    #перебор_элементов_и_поиск_уникальных\n",
    "    for values in massive:\n",
    "        if values not in massive_unique:\n",
    "            #добавление_уникальных_элементов_в_массив\n",
    "            massive_unique.append(values)\n",
    "    #возврат_значения_уникальных_элементов\n",
    "    return massive_unique"
   ]
  },
  {
   "cell_type": "code",
   "execution_count": 10,
   "metadata": {
    "id": "OU_Q761p94M1"
   },
   "outputs": [],
   "source": [
    "#создание_функции_геометок\n",
    "def geo_labels():\n",
    "    #создание_пустого_словаря\n",
    "    users_labels = dict()\n",
    "\n",
    "    #приглашение_на_ввод_имен_пользователей\n",
    "    print(\"Введите имя пользователей через пробел: \")\n",
    "    #ввод_имен_пользователей\n",
    "    users = input()\n",
    "    #разделение_на_отдельных_пользователей_и_запись_в_массив\n",
    "    users_mass = users.split()\n",
    "    #вывод_имен_всех_пользователей\n",
    "    print(\"Вы ввели следующих пользователей: \", users_mass)\n",
    "\n",
    "    #приглашение_на_ввод_меток_для_пользователей\n",
    "    print(\"Введите метки пользователей: \")\n",
    "\n",
    "    #перебор_пользователей_и_добавление_меток\n",
    "    for i in range(len(users_mass)):\n",
    "        #определение_пользователя_для_ввода_меток\n",
    "        print(\"Введите метки для пользователя, через запятую: \", users_mass[i])\n",
    "        #ввод_меток\n",
    "        labels = input()\n",
    "        #заполнение_словаря\n",
    "        users_labels[i] = labels\n",
    "\n",
    "    #замена_ключей_в_словаре_на_имена_пользователей\n",
    "    for i in range(len(users_mass)):\n",
    "        users_labels[users_mass[i]] = users_labels.pop(i)\n",
    "\n",
    "    #печать_словаря_пользователь_метка\n",
    "    print(\"ids= \",users_labels)\n",
    "\n",
    "    #создание_пустого_листа\n",
    "    labels_result = []\n",
    "    #создание_многомерного_листа\n",
    "    for i in range(len(users_mass)):\n",
    "        labels_result.append((users_labels.get(users_mass[i], 0)).split(','))\n",
    "\n",
    "    #создание_пустого_листа\n",
    "    labels_result_one = []\n",
    "    #преобразование_многомерного_листа_в_одномерный\n",
    "    for param in labels_result:\n",
    "        labels_result_one.extend(param if isinstance(param, list) else [param]) \n",
    "\n",
    "    #конвертация_листа_в_массив\n",
    "    labels_result_mass = np.array(labels_result_one)\n",
    "\n",
    "    #содание_массива_для_чисел\n",
    "    labels_resultInt = []\n",
    "    #конвертация_массива_строк_в_массив_чисел\n",
    "    labels_resultInt = [int(numeric_string) for numeric_string in labels_result_mass]\n",
    "    \n",
    "    #поиск_уникальных_значений_в_массиве\n",
    "    result_str = find_unique_values(labels_resultInt)\n",
    "\n",
    "    #печать_результата\n",
    "    print(\"Результат: \", result_str)"
   ]
  },
  {
   "cell_type": "code",
   "execution_count": 11,
   "metadata": {
    "id": "C_WHTS16dm-x"
   },
   "outputs": [],
   "source": [
    "#инициализация_тестов\n",
    "def test_geo_labels():\n",
    "    assert geo_labels() != 0"
   ]
  },
  {
   "cell_type": "code",
   "execution_count": 12,
   "metadata": {
    "colab": {
     "base_uri": "https://localhost:8080/"
    },
    "id": "UUZ8PY-NdseP",
    "outputId": "ffdc9919-2e17-4c1e-f08e-b05b83b79c41"
   },
   "outputs": [
    {
     "name": "stdout",
     "output_type": "stream",
     "text": [
      "Введите имя пользователей через пробел: \n",
      "user1 user2 user3\n",
      "Вы ввели следующих пользователей:  ['user1', 'user2', 'user3']\n",
      "Введите метки пользователей: \n",
      "Введите метки для пользователя, через запятую:  user1\n",
      "213, 213, 213, 15, 213\n",
      "Введите метки для пользователя, через запятую:  user2\n",
      "54, 54, 119, 119, 119\n",
      "Введите метки для пользователя, через запятую:  user3\n",
      "98, 35, 15, 213, 54, 119\n",
      "ids=  {'user1': '213, 213, 213, 15, 213', 'user2': '54, 54, 119, 119, 119', 'user3': '98, 35, 15, 213, 54, 119'}\n",
      "Результат:  [213, 15, 54, 119, 98, 35]\n"
     ]
    }
   ],
   "source": [
    "#запуск_программы\n",
    "test_geo_labels()"
   ]
  },
  {
   "cell_type": "markdown",
   "metadata": {
    "id": "HrItTao095Gn"
   },
   "source": [
    "### Задача_2(решено)"
   ]
  },
  {
   "cell_type": "markdown",
   "metadata": {
    "id": "QXdsWkhi-FXy"
   },
   "source": [
    "Дана переменная, в которой хранится список поисковых запросов пользователя (пример структуры данных приведен ниже). Вам необходимо написать программу, которая выведет на экран распределение количества слов в запросах в требуемом виде."
   ]
  },
  {
   "cell_type": "markdown",
   "metadata": {
    "id": "dzuofjE0-IUT"
   },
   "source": [
    "Пример работы программы:\n",
    "\n",
    "queries = [\n",
    "    'смотреть сериалы онлайн',\n",
    "    'новости спорта',\n",
    "    'афиша кино',\n",
    "    'курс доллара',\n",
    "    'сериалы этим летом',\n",
    "    'курс по питону',\n",
    "    'сериалы про спорт',\n",
    "]\n",
    "Результат:\n",
    "\n",
    "Поисковых запросов, содержащих 2 слов(а): 42.86%\n",
    "Поисковых запросов, содержащих 3 слов(а): 57.14%"
   ]
  },
  {
   "cell_type": "code",
   "execution_count": 6,
   "metadata": {
    "id": "dcLSGRJz-NGj"
   },
   "outputs": [],
   "source": [
    "#создание_функции_для_обработки_запросов\n",
    "def request_quest():\n",
    "    #приглашение_на_ввод_строки_с_запросами\n",
    "    print(\"Введите строку с запросами через запятую: \")\n",
    "    #ввод_строки_с_запросами\n",
    "    req_str = input()\n",
    "    #полученая_строка\n",
    "    print(\"Вы ввели: \", req_str)\n",
    "\n",
    "    #создание_массива_из_строки\n",
    "    req_strMass = req_str.split(',')\n",
    "    #получение_длинны_массива\n",
    "    lenght_strMass = len(req_strMass)\n",
    "    #печать_полученного_массива\n",
    "    print(\"Полученный массив слов: \", req_strMass)\n",
    "\n",
    "    #создание_массива_по_оценке_длины_строки\n",
    "    len_strMass = []\n",
    "    #создание_результирующего_массива\n",
    "    req = []\n",
    "\n",
    "    req_1 = 0\n",
    "    req_2 = 0\n",
    "    req_3 = 0\n",
    "\n",
    "    #перебор_всех_запросов\n",
    "    for i in range(lenght_strMass):\n",
    "        #вычисление_длины_строки\n",
    "        len_strMass = int(len(req_strMass[i].split()))\n",
    "        \n",
    "        #добавление_значения_в_массив\n",
    "        if(len_strMass == 1):\n",
    "          req_1 += 1\n",
    "        if(len_strMass == 2):\n",
    "          req_2 += 1\n",
    "        if(len_strMass == 3):\n",
    "          req_3 += 1\n",
    "\n",
    "    #добавление_значения_в_массив\n",
    "    req.append(req_1)\n",
    "    req.append(req_2)\n",
    "    req.append(req_3)\n",
    "\n",
    "    #печать_результата\n",
    "    for i in range(len(req)):\n",
    "        req[i] = (req[i]/len(req_strMass))*100\n",
    "        print(f\"Поисковых запросов, содержащих {i+1} слов(а): \", \n",
    "              float(\"{0:.2f}\".format(req[i])),\"%\")"
   ]
  },
  {
   "cell_type": "code",
   "execution_count": 7,
   "metadata": {
    "id": "cJhgJVjaaWxu"
   },
   "outputs": [],
   "source": [
    "#инициализация_тестов\n",
    "def test_req():\n",
    "    assert request_quest() != 0"
   ]
  },
  {
   "cell_type": "code",
   "execution_count": 13,
   "metadata": {
    "colab": {
     "base_uri": "https://localhost:8080/"
    },
    "id": "K-hIRlXqagAu",
    "outputId": "53edfd60-df9e-4e07-dfba-235fd096861d"
   },
   "outputs": [
    {
     "name": "stdout",
     "output_type": "stream",
     "text": [
      "Введите строку с запросами через запятую: \n",
      "смотреть сериалы онлайн,новости спорта,афиша кино,курс доллара,сериалы этим летом,курс по питону,сериалы про спорт\n",
      "Вы ввели:  смотреть сериалы онлайн,новости спорта,афиша кино,курс доллара,сериалы этим летом,курс по питону,сериалы про спорт\n",
      "Полученный массив слов:  ['смотреть сериалы онлайн', 'новости спорта', 'афиша кино', 'курс доллара', 'сериалы этим летом', 'курс по питону', 'сериалы про спорт']\n",
      "Поисковых запросов, содержащих 1 слов(а):  0.0 %\n",
      "Поисковых запросов, содержащих 2 слов(а):  42.86 %\n",
      "Поисковых запросов, содержащих 3 слов(а):  57.14 %\n"
     ]
    }
   ],
   "source": [
    "#запуск_функции\n",
    "test_req()"
   ]
  },
  {
   "cell_type": "markdown",
   "metadata": {
    "id": "aqqyoPoJ-MTd"
   },
   "source": [
    "### Задача_3(решено)"
   ]
  },
  {
   "cell_type": "markdown",
   "metadata": {
    "id": "bZVIqpWo-ScC"
   },
   "source": [
    "Дана переменная, в которой хранится информация о затратах и доходе рекламных кампаний по различным источникам. Необходимо дополнить исходную структуру показателем ROI, который рассчитаем по формуле: (revenue / cost - 1) * 100"
   ]
  },
  {
   "cell_type": "markdown",
   "metadata": {
    "id": "dLkNKHY2-U-S"
   },
   "source": [
    "Пример работы программы:\n",
    "\n",
    "results = {\n",
    "    'vk': {'revenue': 103, 'cost': 98},\n",
    "    'yandex': {'revenue': 179, 'cost': 153},\n",
    "    'facebook': {'revenue': 103, 'cost': 110},\n",
    "    'adwords': {'revenue': 35, 'cost': 34},\n",
    "    'twitter': {'revenue': 11, 'cost': 24},\n",
    "}\n",
    "Результат:\n",
    "\n",
    "{'adwords': {'ROI': 2.94, 'cost': 34, 'revenue': 35},\n",
    " 'facebook': {'ROI': -6.36, 'cost': 110, 'revenue': 103},\n",
    " 'twitter': {'ROI': -54.17, 'cost': 24, 'revenue': 11},\n",
    " 'vk': {'ROI': 5.1, 'cost': 98, 'revenue': 103},\n",
    " 'yandex': {'ROI': 16.99, 'cost': 153, 'revenue': 179}}"
   ]
  },
  {
   "cell_type": "code",
   "execution_count": null,
   "metadata": {
    "id": "TWZhhLOJ-R3I"
   },
   "outputs": [],
   "source": [
    "#создание_функции\n",
    "def addRevenue(results):\n",
    "    for key, value in results.items():\n",
    "        roi = (value['revenue'] / value['cost'] - 1) * 100\n",
    "        results[key]['ROI'] = round(roi, 2)\n",
    "    return results"
   ]
  },
  {
   "cell_type": "code",
   "execution_count": null,
   "metadata": {
    "id": "fZMzjPdi0gZY"
   },
   "outputs": [],
   "source": [
    "#ввод_данных\n",
    "results = { 'vk': {'revenue': 103, 'cost': 98}, \n",
    "            'yandex': {'revenue': 179, 'cost': 153},\n",
    "            'facebook': {'revenue': 103, 'cost': 110}, \n",
    "            'adwords': {'revenue': 35, 'cost': 34}, \n",
    "            'twitter': {'revenue': 11, 'cost': 24}, }"
   ]
  },
  {
   "cell_type": "code",
   "execution_count": null,
   "metadata": {
    "colab": {
     "base_uri": "https://localhost:8080/"
    },
    "id": "iIQmgC4h0izL",
    "outputId": "a5e5393d-1bf2-4228-91cf-f44071c5f0af"
   },
   "outputs": [
    {
     "name": "stdout",
     "output_type": "stream",
     "text": [
      "{'vk': {'revenue': 103, 'cost': 98, 'ROI': 5.1}, 'yandex': {'revenue': 179, 'cost': 153, 'ROI': 16.99}, 'facebook': {'revenue': 103, 'cost': 110, 'ROI': -6.36}, 'adwords': {'revenue': 35, 'cost': 34, 'ROI': 2.94}, 'twitter': {'revenue': 11, 'cost': 24, 'ROI': -54.17}}\n"
     ]
    }
   ],
   "source": [
    "#печать_результата\n",
    "print(addRevenue(results))"
   ]
  },
  {
   "cell_type": "markdown",
   "metadata": {
    "id": "wccKvbFy-Y9v"
   },
   "source": [
    "### Задача_4(решено)"
   ]
  },
  {
   "cell_type": "markdown",
   "metadata": {
    "id": "ADlYh-Tx-cjV"
   },
   "source": [
    "Дана переменная, в которой хранится статистика рекламных каналов по объемам продаж (пример структуры данных приведен ниже). Напишите программу, которая возвращает название канала с максимальным объемом продаж."
   ]
  },
  {
   "cell_type": "markdown",
   "metadata": {
    "id": "vOPFtqYF-eqZ"
   },
   "source": [
    "Пример работы программы:\n",
    "\n",
    "stats = {'facebook': 55, 'yandex': 115, 'vk': 120, 'google': 99, 'email': 42, 'ok': 98}\n",
    "\n",
    "Результат: Максимальный объем продаж на рекламном канале: vk"
   ]
  },
  {
   "cell_type": "code",
   "execution_count": null,
   "metadata": {
    "id": "M34pptGd-b2l"
   },
   "outputs": [],
   "source": [
    "#создание_функции\n",
    "def maxSales(stats):\n",
    "    sorted_stats = dict(sorted(stats.items(),  \n",
    "                               key=lambda x: x[1], \n",
    "                               reverse = True))\n",
    "    print(\"Максимальный объем продаж на рекламном канале: {}\".format(list(sorted_stats.keys())[0]))"
   ]
  },
  {
   "cell_type": "code",
   "execution_count": null,
   "metadata": {
    "id": "woboSoz51SCX"
   },
   "outputs": [],
   "source": [
    "#ввод_данных\n",
    "stats = {'facebook': 55, 'yandex': 115, 'vk': 120, 'google': 99, 'email': 42, 'ok': 98}"
   ]
  },
  {
   "cell_type": "code",
   "execution_count": null,
   "metadata": {
    "colab": {
     "base_uri": "https://localhost:8080/"
    },
    "id": "9gDILTZC1TAM",
    "outputId": "e29b4ef0-17cc-427a-f6ac-102814edda6e"
   },
   "outputs": [
    {
     "name": "stdout",
     "output_type": "stream",
     "text": [
      "Максимальный объем продаж на рекламном канале: vk\n"
     ]
    }
   ],
   "source": [
    "#печать_результата\n",
    "maxSales(stats)"
   ]
  }
 ],
 "metadata": {
  "colab": {
   "collapsed_sections": [],
   "provenance": []
  },
  "kernelspec": {
   "display_name": "Python 3 (ipykernel)",
   "language": "python",
   "name": "python3"
  },
  "language_info": {
   "codemirror_mode": {
    "name": "ipython",
    "version": 3
   },
   "file_extension": ".py",
   "mimetype": "text/x-python",
   "name": "python",
   "nbconvert_exporter": "python",
   "pygments_lexer": "ipython3",
   "version": "3.9.12"
  }
 },
 "nbformat": 4,
 "nbformat_minor": 1
}
